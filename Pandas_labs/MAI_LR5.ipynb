{
 "cells": [
  {
   "cell_type": "markdown",
   "metadata": {},
   "source": [
    "# Лабораторная работа 5. Pandas\n",
    "- Выполнил: **Савчук Д.И.**\n",
    "- Группа: **М8О-103М-20**\n",
    "- Дата сдачи: **28.11.20**\n",
    "___\n",
    "**Москва, 2020**"
   ]
  },
  {
   "cell_type": "code",
   "execution_count": 1,
   "metadata": {},
   "outputs": [],
   "source": [
    "import sys\n",
    "import numpy as np\n",
    "import pandas as pd"
   ]
  },
  {
   "cell_type": "markdown",
   "metadata": {},
   "source": [
    "1. Получить от объекта **Series** показатели описательной статистики"
   ]
  },
  {
   "cell_type": "code",
   "execution_count": 2,
   "metadata": {},
   "outputs": [
    {
     "name": "stdout",
     "output_type": "stream",
     "text": [
      "count    25.000000\n",
      "mean     12.000000\n",
      "std       7.359801\n",
      "min       0.000000\n",
      "25%       6.000000\n",
      "50%      12.000000\n",
      "75%      18.000000\n",
      "max      24.000000\n",
      "dtype: float64\n"
     ]
    }
   ],
   "source": [
    "s = pd.Series(np.arange(25))\n",
    "\n",
    "print(s.describe())"
   ]
  },
  {
   "cell_type": "markdown",
   "metadata": {},
   "source": [
    "2. Узнать частоту уникальных элементов объекта **Series** (гистограмма)"
   ]
  },
  {
   "cell_type": "code",
   "execution_count": 3,
   "metadata": {},
   "outputs": [
    {
     "name": "stdout",
     "output_type": "stream",
     "text": [
      "1    4\n",
      "2    3\n",
      "0    3\n",
      "dtype: int64\n"
     ]
    }
   ],
   "source": [
    "s = np.random.randint(3, size=(10))\n",
    "s = pd.Series(s)\n",
    " \n",
    "print(s.value_counts())"
   ]
  },
  {
   "cell_type": "markdown",
   "metadata": {},
   "source": [
    "3. Заменить все элементы объекта **Series** на \"Other\", кроме двух наиболее часто встречающихся"
   ]
  },
  {
   "cell_type": "code",
   "execution_count": 4,
   "metadata": {},
   "outputs": [
    {
     "name": "stdout",
     "output_type": "stream",
     "text": [
      "3    3\n",
      "1    3\n",
      "4    2\n",
      "2    2\n",
      "dtype: int64\n",
      "0    Other\n",
      "1        3\n",
      "2        3\n",
      "3        1\n",
      "4    Other\n",
      "5        3\n",
      "6    Other\n",
      "7    Other\n",
      "8        1\n",
      "9        1\n",
      "dtype: object\n"
     ]
    }
   ],
   "source": [
    "s = np.random.randint(5, size=(10))\n",
    "s = pd.Series(s)\n",
    "print(s.value_counts())\n",
    "s[~s.isin(s.value_counts().index[:2])] = 'Other'\n",
    "print(s)"
   ]
  },
  {
   "cell_type": "markdown",
   "metadata": {},
   "source": [
    "4. Создать объект **Series** в индексах дата каждый день 2019 года, в значениях случайное значение"
   ]
  },
  {
   "cell_type": "code",
   "execution_count": 5,
   "metadata": {},
   "outputs": [
    {
     "name": "stdout",
     "output_type": "stream",
     "text": [
      "2019-01-01    0.555606\n",
      "2019-01-02    0.760949\n",
      "2019-01-03    0.982957\n",
      "2019-01-04    0.642002\n",
      "2019-01-05    0.659553\n",
      "                ...   \n",
      "2019-12-27    0.621908\n",
      "2019-12-28    0.383377\n",
      "2019-12-29    0.661990\n",
      "2019-12-30    0.631400\n",
      "2019-12-31    0.480085\n",
      "Freq: D, Length: 365, dtype: float64\n"
     ]
    }
   ],
   "source": [
    "dti = pd.date_range(start='2019-01-01', end='2019-12-31') \n",
    "s = pd.Series(np.random.rand(len(dti)), index=dti)\n",
    "print(s)"
   ]
  },
  {
   "cell_type": "markdown",
   "metadata": {},
   "source": [
    "- Найти сумму всех вторников"
   ]
  },
  {
   "cell_type": "code",
   "execution_count": 6,
   "metadata": {},
   "outputs": [
    {
     "name": "stdout",
     "output_type": "stream",
     "text": [
      "23.130139724909\n"
     ]
    }
   ],
   "source": [
    "ans = s[s.index.weekday == 1].sum()\n",
    "print(ans)"
   ]
  },
  {
   "cell_type": "markdown",
   "metadata": {},
   "source": [
    "- Для каждого месяца найти среднее значение"
   ]
  },
  {
   "cell_type": "code",
   "execution_count": 7,
   "metadata": {},
   "outputs": [
    {
     "name": "stdout",
     "output_type": "stream",
     "text": [
      "2019-01-31    0.565121\n",
      "2019-02-28    0.399846\n",
      "2019-03-31    0.399362\n",
      "2019-04-30    0.414164\n",
      "2019-05-31    0.480544\n",
      "2019-06-30    0.438898\n",
      "2019-07-31    0.605984\n",
      "2019-08-31    0.474262\n",
      "2019-09-30    0.446459\n",
      "2019-10-31    0.549013\n",
      "2019-11-30    0.537884\n",
      "2019-12-31    0.459113\n",
      "Freq: M, dtype: float64\n"
     ]
    }
   ],
   "source": [
    "ans = s.resample('M').mean()\n",
    "print(ans)"
   ]
  },
  {
   "cell_type": "markdown",
   "metadata": {},
   "source": [
    "5. Преобразовать объект **Series** в **DataFrame** заданной формы (shape)"
   ]
  },
  {
   "cell_type": "code",
   "execution_count": 8,
   "metadata": {},
   "outputs": [
    {
     "name": "stdout",
     "output_type": "stream",
     "text": [
      "0    0\n",
      "1    1\n",
      "2    2\n",
      "3    3\n",
      "4    4\n",
      "5    5\n",
      "6    6\n",
      "7    7\n",
      "8    8\n",
      "dtype: int32\n",
      "   0  1  2\n",
      "0  0  1  2\n",
      "1  3  4  5\n",
      "2  6  7  8\n"
     ]
    }
   ],
   "source": [
    "s = pd.Series(np.arange(9))\n",
    "print(s)\n",
    "\n",
    "df = pd.DataFrame(s.values.reshape(3, 3))\n",
    "print(df)"
   ]
  },
  {
   "cell_type": "markdown",
   "metadata": {},
   "source": [
    "6. Найти индексы объекта **Series** кратные **3**"
   ]
  },
  {
   "cell_type": "code",
   "execution_count": 9,
   "metadata": {},
   "outputs": [
    {
     "name": "stdout",
     "output_type": "stream",
     "text": [
      "0    9\n",
      "1    6\n",
      "2    5\n",
      "3    3\n",
      "4    2\n",
      "5    3\n",
      "6    6\n",
      "7    5\n",
      "8    4\n",
      "9    2\n",
      "dtype: int32\n",
      "Int64Index([0, 1, 3, 5, 6], dtype='int64')\n"
     ]
    }
   ],
   "source": [
    "s = pd.Series(np.random.randint(10, size=(10)))\n",
    "print(s)\n",
    " \n",
    "ans = s[s % 3 == 0].index\n",
    "print(ans)"
   ]
  },
  {
   "cell_type": "markdown",
   "metadata": {},
   "source": [
    "7. Получить данные по индексам объекта **Series**"
   ]
  },
  {
   "cell_type": "code",
   "execution_count": 10,
   "metadata": {},
   "outputs": [
    {
     "name": "stdout",
     "output_type": "stream",
     "text": [
      "0     a\n",
      "4     e\n",
      "8     i\n",
      "12    m\n",
      "16    q\n",
      "20    u\n",
      "24    y\n",
      "dtype: object\n"
     ]
    }
   ],
   "source": [
    "import string\n",
    "\n",
    "s = pd.Series(list(string.ascii_lowercase))\n",
    "idx = np.arange(len(s), step=4)\n",
    " \n",
    "ans = s[idx]\n",
    "print(ans)"
   ]
  },
  {
   "cell_type": "markdown",
   "metadata": {},
   "source": [
    "8. Объединить два объекта **Series** вертикально и горизонтально"
   ]
  },
  {
   "cell_type": "code",
   "execution_count": 11,
   "metadata": {},
   "outputs": [
    {
     "name": "stdout",
     "output_type": "stream",
     "text": [
      "0      0\n",
      "1      1\n",
      "2      2\n",
      "3      3\n",
      "4      4\n",
      "5      5\n",
      "6      6\n",
      "7      7\n",
      "8      8\n",
      "9      9\n",
      "10    10\n",
      "11    11\n",
      "12    12\n",
      "13    13\n",
      "14    14\n",
      "15    15\n",
      "16    16\n",
      "17    17\n",
      "18    18\n",
      "19    19\n",
      "20    20\n",
      "21    21\n",
      "22    22\n",
      "23    23\n",
      "24    24\n",
      "25    25\n",
      "0      a\n",
      "1      b\n",
      "2      c\n",
      "3      d\n",
      "4      e\n",
      "5      f\n",
      "6      g\n",
      "7      h\n",
      "8      i\n",
      "9      j\n",
      "10     k\n",
      "11     l\n",
      "12     m\n",
      "13     n\n",
      "14     o\n",
      "15     p\n",
      "16     q\n",
      "17     r\n",
      "18     s\n",
      "19     t\n",
      "20     u\n",
      "21     v\n",
      "22     w\n",
      "23     x\n",
      "24     y\n",
      "25     z\n",
      "dtype: object\n",
      "     0  1\n",
      "0    0  a\n",
      "1    1  b\n",
      "2    2  c\n",
      "3    3  d\n",
      "4    4  e\n",
      "5    5  f\n",
      "6    6  g\n",
      "7    7  h\n",
      "8    8  i\n",
      "9    9  j\n",
      "10  10  k\n",
      "11  11  l\n",
      "12  12  m\n",
      "13  13  n\n",
      "14  14  o\n",
      "15  15  p\n",
      "16  16  q\n",
      "17  17  r\n",
      "18  18  s\n",
      "19  19  t\n",
      "20  20  u\n",
      "21  21  v\n",
      "22  22  w\n",
      "23  23  x\n",
      "24  24  y\n",
      "25  25  z\n"
     ]
    }
   ],
   "source": [
    "s1 = pd.Series(range(len(string.ascii_lowercase)))\n",
    "s2 = pd.Series(list(string.ascii_lowercase))\n",
    " \n",
    "ans_vertical = pd.concat((s1, s2), axis=0)\n",
    "ans_horizontal = pd.concat((s1, s2), axis=1)\n",
    " \n",
    "print(ans_vertical)\n",
    "print(ans_horizontal)"
   ]
  },
  {
   "cell_type": "markdown",
   "metadata": {},
   "source": [
    "9. Получить индексы объекта **Series A**, данные которых содержатся в объетке **Series B**"
   ]
  },
  {
   "cell_type": "code",
   "execution_count": 12,
   "metadata": {},
   "outputs": [
    {
     "name": "stdout",
     "output_type": "stream",
     "text": [
      "[0 3 4]\n"
     ]
    }
   ],
   "source": [
    "s1 = pd.Series([1, 2, 3, 4, 5])\n",
    "s2 = pd.Series([1, 5, 4])\n",
    " \n",
    "ans = np.sort(np.array([pd.Index(s1).get_loc(i) for i in s2]))\n",
    "print(ans)"
   ]
  },
  {
   "cell_type": "markdown",
   "metadata": {},
   "source": [
    "10. Получить объект **Series B**, который содержит элементы без повторений объекта **A**"
   ]
  },
  {
   "cell_type": "code",
   "execution_count": 13,
   "metadata": {},
   "outputs": [
    {
     "name": "stdout",
     "output_type": "stream",
     "text": [
      "0    1\n",
      "1    2\n",
      "2    3\n",
      "3    4\n",
      "4    5\n",
      "dtype: int64\n"
     ]
    }
   ],
   "source": [
    "s = pd.Series([1, 2, 3, 4, 5, 4, 3, 2, 1])\n",
    "ans = pd.Series(s.unique())\n",
    "print(ans)"
   ]
  },
  {
   "cell_type": "markdown",
   "metadata": {},
   "source": [
    "11. Преобразовать каждый символ объекта **Series** в верхний регистр"
   ]
  },
  {
   "cell_type": "code",
   "execution_count": 14,
   "metadata": {},
   "outputs": [
    {
     "name": "stdout",
     "output_type": "stream",
     "text": [
      "0    a\n",
      "1    b\n",
      "2    c\n",
      "3    d\n",
      "4    e\n",
      "5    f\n",
      "dtype: object\n",
      "0    A\n",
      "1    B\n",
      "2    C\n",
      "3    D\n",
      "4    E\n",
      "5    F\n",
      "dtype: object\n"
     ]
    }
   ],
   "source": [
    "s = pd.Series(list(string.ascii_lowercase)[:6])\n",
    "print(s)\n",
    "\n",
    "ans = pd.Series(i.title() for i in s)\n",
    "print(ans)"
   ]
  },
  {
   "cell_type": "markdown",
   "metadata": {},
   "source": [
    "12. Рассчитать количество символов в объекте **Series**"
   ]
  },
  {
   "cell_type": "code",
   "execution_count": 15,
   "metadata": {},
   "outputs": [
    {
     "name": "stdout",
     "output_type": "stream",
     "text": [
      "0     first\n",
      "1    second\n",
      "2     third\n",
      "dtype: object\n",
      "[5 6 5]\n"
     ]
    }
   ],
   "source": [
    "s = pd.Series(['first', 'second', 'third'])\n",
    "print(s)\n",
    "\n",
    "ans = np.array([len(i) for i in s])\n",
    "print(ans)"
   ]
  },
  {
   "cell_type": "markdown",
   "metadata": {},
   "source": [
    "13. Найти разность между объектом **Series** и смещением объекта **Series** на **n**"
   ]
  },
  {
   "cell_type": "code",
   "execution_count": 16,
   "metadata": {},
   "outputs": [
    {
     "name": "stdout",
     "output_type": "stream",
     "text": [
      "0    NaN\n",
      "1    0.0\n",
      "2    1.0\n",
      "3    1.0\n",
      "4    2.0\n",
      "5    3.0\n",
      "6    5.0\n",
      "7    8.0\n",
      "dtype: float64\n"
     ]
    }
   ],
   "source": [
    "n = 1\n",
    "s = pd.Series([1, 1, 2, 3, 5, 8, 13, 21])\n",
    " \n",
    "ans = s.diff(periods=n)\n",
    "print(ans)"
   ]
  },
  {
   "cell_type": "markdown",
   "metadata": {},
   "source": [
    "14. Преобразовать разыне форматы строк объекта **Series** в дату"
   ]
  },
  {
   "cell_type": "code",
   "execution_count": 17,
   "metadata": {},
   "outputs": [
    {
     "name": "stdout",
     "output_type": "stream",
     "text": [
      "0   2020-01-01\n",
      "1   2021-12-30\n",
      "2   2012-06-12\n",
      "dtype: datetime64[ns]\n"
     ]
    }
   ],
   "source": [
    "s = pd.Series(['2020-01-01', '2021/12/30', '12 Jun 2012'])\n",
    " \n",
    "ans = pd.to_datetime(s)\n",
    "print(ans)"
   ]
  },
  {
   "cell_type": "markdown",
   "metadata": {},
   "source": [
    "15. Получить год, месяц, день, день недели, номер дня в году от объекта **Series** (string)"
   ]
  },
  {
   "cell_type": "code",
   "execution_count": 18,
   "metadata": {},
   "outputs": [],
   "source": [
    " s = pd.Series(['01 Jun 2010', '12-12-2012', '20200808', '2022/04/04', '2019-12-31'])"
   ]
  },
  {
   "cell_type": "markdown",
   "metadata": {},
   "source": [
    "- распарсить в дату и время"
   ]
  },
  {
   "cell_type": "code",
   "execution_count": 19,
   "metadata": {},
   "outputs": [
    {
     "name": "stdout",
     "output_type": "stream",
     "text": [
      "0   2010-06-01\n",
      "1   2012-12-12\n",
      "2   2020-08-08\n",
      "3   2022-04-04\n",
      "4   2019-12-31\n",
      "dtype: datetime64[ns]\n"
     ]
    }
   ],
   "source": [
    "ans = pd.to_datetime(s)\n",
    "print(ans)"
   ]
  },
  {
   "cell_type": "markdown",
   "metadata": {},
   "source": [
    "- получить года"
   ]
  },
  {
   "cell_type": "code",
   "execution_count": 20,
   "metadata": {},
   "outputs": [
    {
     "name": "stdout",
     "output_type": "stream",
     "text": [
      "0    2010\n",
      "1    2012\n",
      "2    2020\n",
      "3    2022\n",
      "4    2019\n",
      "dtype: int64\n"
     ]
    }
   ],
   "source": [
    "print(ans.dt.year)"
   ]
  },
  {
   "cell_type": "markdown",
   "metadata": {},
   "source": [
    "- получить месяца"
   ]
  },
  {
   "cell_type": "code",
   "execution_count": 21,
   "metadata": {},
   "outputs": [
    {
     "name": "stdout",
     "output_type": "stream",
     "text": [
      "0     6\n",
      "1    12\n",
      "2     8\n",
      "3     4\n",
      "4    12\n",
      "dtype: int64\n"
     ]
    }
   ],
   "source": [
    "print(ans.dt.month)"
   ]
  },
  {
   "cell_type": "markdown",
   "metadata": {},
   "source": [
    "- получить дни"
   ]
  },
  {
   "cell_type": "code",
   "execution_count": 22,
   "metadata": {},
   "outputs": [
    {
     "name": "stdout",
     "output_type": "stream",
     "text": [
      "0     1\n",
      "1    12\n",
      "2     8\n",
      "3     4\n",
      "4    31\n",
      "dtype: int64\n"
     ]
    }
   ],
   "source": [
    "print(ans.dt.day)"
   ]
  },
  {
   "cell_type": "markdown",
   "metadata": {},
   "source": [
    "- получить номер недели"
   ]
  },
  {
   "cell_type": "code",
   "execution_count": 23,
   "metadata": {},
   "outputs": [
    {
     "name": "stdout",
     "output_type": "stream",
     "text": [
      "0    22\n",
      "1    50\n",
      "2    32\n",
      "3    14\n",
      "4     1\n",
      "Name: week, dtype: UInt32\n"
     ]
    }
   ],
   "source": [
    "print(ans.dt.isocalendar().week)"
   ]
  },
  {
   "cell_type": "markdown",
   "metadata": {},
   "source": [
    "- получить номер дня в году "
   ]
  },
  {
   "cell_type": "code",
   "execution_count": 24,
   "metadata": {},
   "outputs": [
    {
     "name": "stdout",
     "output_type": "stream",
     "text": [
      "0    152\n",
      "1    347\n",
      "2    221\n",
      "3     94\n",
      "4    365\n",
      "dtype: int64\n"
     ]
    }
   ],
   "source": [
    "print(ans.dt.dayofyear)"
   ]
  },
  {
   "cell_type": "markdown",
   "metadata": {},
   "source": [
    "16. Отобрать элементы объекта **Series**, кторые содержат не менее двух гласных"
   ]
  },
  {
   "cell_type": "code",
   "execution_count": 25,
   "metadata": {},
   "outputs": [
    {
     "name": "stdout",
     "output_type": "stream",
     "text": [
      "0       Apple\n",
      "1      Orange\n",
      "2       White\n",
      "4     Weather\n",
      "5    Resistor\n",
      "dtype: object\n"
     ]
    }
   ],
   "source": [
    "lst, temp = [], []\n",
    "count = 0\n",
    "\n",
    "s = pd.Series(['Apple', 'Orange', 'White', 'Cat', 'Weather', 'Resistor', 'Sun'])\n",
    "for i in s:\n",
    "    lst.append(list(i.lower()))\n",
    "\n",
    "for i in lst:\n",
    "    count = 0\n",
    "    for j in i:\n",
    "        if j in list('aeiouy'):\n",
    "            count += 1\n",
    "    if count >= 2:\n",
    "        temp.append(True)\n",
    "    else:\n",
    "        temp.append(False)\n",
    "\n",
    "ans = s[temp]\n",
    "print(ans)"
   ]
  },
  {
   "cell_type": "markdown",
   "metadata": {},
   "source": [
    "17. Отобрать e-маилы из объекта **Series**"
   ]
  },
  {
   "cell_type": "code",
   "execution_count": 26,
   "metadata": {},
   "outputs": [
    {
     "name": "stdout",
     "output_type": "stream",
     "text": [
      "1      test@mail.ru\n",
      "2    test@gmail.com\n",
      "dtype: object\n"
     ]
    }
   ],
   "source": [
    "import re\n",
    " \n",
    "emails = pd.Series(['test @test.com', 'test@mail.ru', 'test@gmail.com', 'test@pp', 'test.gmail.com'])\n",
    "pattern = '[A-Za-z0-9._%+-]+@[A-Za-z0-9.-]+\\\\.[A-Za-z]{2,4}'\n",
    "temp = emails.map(lambda x: bool(re.match(pattern, x)))\n",
    "ans = emails[temp]\n",
    "print(ans)"
   ]
  },
  {
   "cell_type": "markdown",
   "metadata": {},
   "source": [
    "18. Получить среднее значение каждого уникального объекта **Series s1** через \"маску\" другого объекта **Series s2**"
   ]
  },
  {
   "cell_type": "code",
   "execution_count": 32,
   "metadata": {},
   "outputs": [
    {
     "name": "stdout",
     "output_type": "stream",
     "text": [
      "0    three\n",
      "1     five\n",
      "2      two\n",
      "3    three\n",
      "4    three\n",
      "5      one\n",
      "6     four\n",
      "7      one\n",
      "8      one\n",
      "9     five\n",
      "dtype: object\n",
      "0     1\n",
      "1     2\n",
      "2     3\n",
      "3     4\n",
      "4     5\n",
      "5     6\n",
      "6     7\n",
      "7     8\n",
      "8     9\n",
      "9    10\n",
      "dtype: int32\n",
      "0       (five, [2, 10])\n",
      "1           (four, [7])\n",
      "2      (one, [6, 8, 9])\n",
      "3    (three, [1, 4, 5])\n",
      "4            (two, [3])\n",
      "dtype: object\n",
      "five     6.000000\n",
      "four     7.000000\n",
      "one      7.666667\n",
      "three    3.333333\n",
      "two      3.000000\n",
      "dtype: float64\n"
     ]
    }
   ],
   "source": [
    "s1 = pd.Series(np.random.choice(['one', 'two', 'three', 'four', 'five'], 10))\n",
    "print(s1)\n",
    "s2 = pd.Series(np.arange(1,11))\n",
    "print(s2)\n",
    "ans = s2.groupby(s1).mean()\n",
    "print(pd.Series(s2.groupby(s1)))\n",
    "print(ans)"
   ]
  }
 ],
 "metadata": {
  "kernelspec": {
   "display_name": "Python 3",
   "language": "python",
   "name": "python3"
  },
  "language_info": {
   "codemirror_mode": {
    "name": "ipython",
    "version": 3
   },
   "file_extension": ".py",
   "mimetype": "text/x-python",
   "name": "python",
   "nbconvert_exporter": "python",
   "pygments_lexer": "ipython3",
   "version": "3.7.3"
  }
 },
 "nbformat": 4,
 "nbformat_minor": 4
}
