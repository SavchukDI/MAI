{
 "cells": [
  {
   "cell_type": "markdown",
   "metadata": {},
   "source": [
    "# Лабораторная работа 6. Pandas\n",
    "- Выполнил: **Савчук Д.И.**\n",
    "- Группа: **М8О-103М-20**\n",
    "- Дата сдачи: **28.11.20**\n",
    "___\n",
    "**Москва, 2020**"
   ]
  },
  {
   "cell_type": "code",
   "execution_count": 1,
   "metadata": {},
   "outputs": [],
   "source": [
    "import sys\n",
    "import numpy as np\n",
    "import pandas as pd"
   ]
  },
  {
   "cell_type": "markdown",
   "metadata": {},
   "source": [
    "1. Найти евклидово расстоняие между двумя объектами **Series**"
   ]
  },
  {
   "cell_type": "code",
   "execution_count": 2,
   "metadata": {},
   "outputs": [
    {
     "name": "stdout",
     "output_type": "stream",
     "text": [
      "0    4\n",
      "1    2\n",
      "2    5\n",
      "dtype: int32\n",
      "0    8\n",
      "1    7\n",
      "2    0\n",
      "dtype: int32\n",
      "8.12403840463596\n"
     ]
    }
   ],
   "source": [
    "s1 = pd.Series(np.random.randint(10, size=(3)))\n",
    "s2 = pd.Series(np.random.randint(10, size=(3)))\n",
    "print(s1)\n",
    "print(s2)\n",
    "\n",
    "ans = np.linalg.norm(s1-s2)\n",
    "print(ans)"
   ]
  },
  {
   "cell_type": "markdown",
   "metadata": {},
   "source": [
    "2. Найти индексы локальных максимумов в объекте **Series**"
   ]
  },
  {
   "cell_type": "code",
   "execution_count": 3,
   "metadata": {},
   "outputs": [
    {
     "name": "stdout",
     "output_type": "stream",
     "text": [
      "[3 6]\n"
     ]
    }
   ],
   "source": [
    "s = pd.Series([1, 2, 3, 15, 2, 5, 10, 9, 8, 7, 8])\n",
    "d = np.diff(np.sign(np.diff(s)))\n",
    "ans = np.where(d == -2)[0] + 1\n",
    "print(ans)"
   ]
  },
  {
   "cell_type": "markdown",
   "metadata": {},
   "source": [
    "3. Заменить пробелы наименее часто встречающимся символов"
   ]
  },
  {
   "cell_type": "code",
   "execution_count": 4,
   "metadata": {},
   "outputs": [
    {
     "name": "stdout",
     "output_type": "stream",
     "text": [
      "abafyttrbyykmcyfrcmk\n"
     ]
    }
   ],
   "source": [
    "str_test = 'abaf ttrb ykmc frcmk'\n",
    " \n",
    "s = pd.Series(list(str_test))\n",
    "freq = s.value_counts()\n",
    "least_freq = freq.index[-1]\n",
    "ans = ''.join(s.replace(' ', least_freq))\n",
    "print(ans)"
   ]
  },
  {
   "cell_type": "markdown",
   "metadata": {},
   "source": [
    "4. Создать объект **Series**, который содержит в индексах даты выходных дней субботы, а в значениях случайные числа от 1 до 10"
   ]
  },
  {
   "cell_type": "code",
   "execution_count": 5,
   "metadata": {},
   "outputs": [
    {
     "name": "stdout",
     "output_type": "stream",
     "text": [
      "2021-01-02    2\n",
      "2021-01-09    9\n",
      "2021-01-16    2\n",
      "2021-01-23    6\n",
      "2021-01-30    4\n",
      "2021-02-06    1\n",
      "2021-02-13    3\n",
      "2021-02-20    7\n",
      "2021-02-27    1\n",
      "2021-03-06    9\n",
      "2021-03-13    9\n",
      "2021-03-20    1\n",
      "2021-03-27    4\n",
      "2021-04-03    5\n",
      "2021-04-10    7\n",
      "2021-04-17    6\n",
      "2021-04-24    1\n",
      "2021-05-01    5\n",
      "2021-05-08    4\n",
      "2021-05-15    2\n",
      "Freq: W-SAT, dtype: int32\n"
     ]
    }
   ],
   "source": [
    "s = pd.Series(np.random.randint(1, 10, size=(20)), pd.date_range('2021-01-01', periods=20, freq='W-SAT'))\n",
    "print(s)"
   ]
  },
  {
   "cell_type": "markdown",
   "metadata": {},
   "source": [
    "5. Заполнить пропущенные даты, значением выше (заполненной даты)"
   ]
  },
  {
   "cell_type": "code",
   "execution_count": 6,
   "metadata": {},
   "outputs": [
    {
     "name": "stdout",
     "output_type": "stream",
     "text": [
      "2021-01-02    1\n",
      "2021-01-03    1\n",
      "2021-01-04    1\n",
      "2021-01-05    1\n",
      "2021-01-06    1\n",
      "2021-01-07    1\n",
      "2021-01-08    1\n",
      "2021-01-09    2\n",
      "2021-01-10    2\n",
      "2021-01-11    2\n",
      "2021-01-12    2\n",
      "2021-01-13    2\n",
      "2021-01-14    2\n",
      "2021-01-15    2\n",
      "2021-01-16    3\n",
      "2021-01-17    3\n",
      "2021-01-18    3\n",
      "2021-01-19    3\n",
      "2021-01-20    3\n",
      "2021-01-21    3\n",
      "2021-01-22    3\n",
      "2021-01-23    4\n",
      "2021-01-24    4\n",
      "2021-01-25    4\n",
      "2021-01-26    4\n",
      "2021-01-27    4\n",
      "2021-01-28    4\n",
      "2021-01-29    4\n",
      "2021-01-30    5\n",
      "Freq: D, dtype: int64\n"
     ]
    }
   ],
   "source": [
    "s = pd.Series([1, 2, 3, 4, 5], index=pd.to_datetime(['2021-01-02', '2021-01-09', '2021-01-16', '2021-01-23', '2021-01-30']))\n",
    "\n",
    "ans = s.resample('D').ffill()\n",
    "print(ans)"
   ]
  },
  {
   "cell_type": "markdown",
   "metadata": {},
   "source": [
    "6. Вычислить автокорреляцию объекта **Series**"
   ]
  },
  {
   "cell_type": "code",
   "execution_count": 7,
   "metadata": {},
   "outputs": [
    {
     "name": "stdout",
     "output_type": "stream",
     "text": [
      "0    6\n",
      "1    1\n",
      "2    9\n",
      "3    9\n",
      "4    9\n",
      "5    8\n",
      "6    0\n",
      "7    9\n",
      "8    9\n",
      "9    7\n",
      "dtype: int32\n",
      "-0.12920196579096715\n"
     ]
    }
   ],
   "source": [
    "s = pd.Series(np.random.randint(10, size=(10)))\n",
    "print(s)\n",
    " \n",
    "print(s.autocorr())"
   ]
  }
 ],
 "metadata": {
  "kernelspec": {
   "display_name": "Python 3",
   "language": "python",
   "name": "python3"
  },
  "language_info": {
   "codemirror_mode": {
    "name": "ipython",
    "version": 3
   },
   "file_extension": ".py",
   "mimetype": "text/x-python",
   "name": "python",
   "nbconvert_exporter": "python",
   "pygments_lexer": "ipython3",
   "version": "3.7.3"
  }
 },
 "nbformat": 4,
 "nbformat_minor": 4
}
