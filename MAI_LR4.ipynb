{
 "cells": [
  {
   "cell_type": "markdown",
   "metadata": {},
   "source": [
    "# Лабораторная работа 4\n",
    "- Выполнил: **Савчук Д.И.**\n",
    "- Группа: **М8О-103М-20**\n",
    "- Дата сдачи: **14.11.20**"
   ]
  },
  {
   "cell_type": "markdown",
   "metadata": {},
   "source": [
    "1. Импортировать модули **sys, numpy, pandas**"
   ]
  },
  {
   "cell_type": "code",
   "execution_count": 1,
   "metadata": {},
   "outputs": [],
   "source": [
    "import sys\n",
    "import numpy as np\n",
    "import pandas as pd"
   ]
  },
  {
   "cell_type": "markdown",
   "metadata": {},
   "source": [
    "2. Создать объект pandas **Series** из листа, объекта NumPy, и словаря"
   ]
  },
  {
   "cell_type": "code",
   "execution_count": 2,
   "metadata": {},
   "outputs": [
    {
     "name": "stdout",
     "output_type": "stream",
     "text": [
      "l = [1, 2, 3, 4, 5]\n",
      "v = [1 2 3 4 5]\n",
      "d = {'one': 1, 'two': 2, 'three': 3}\n",
      "\n",
      "Series of l:\n",
      "0    1\n",
      "1    2\n",
      "2    3\n",
      "3    4\n",
      "4    5\n",
      "dtype: int64\n",
      "\n",
      "Series of v:\n",
      "0    1\n",
      "1    2\n",
      "2    3\n",
      "3    4\n",
      "4    5\n",
      "dtype: int32\n",
      "\n",
      "Series of d:\n",
      "one      1\n",
      "two      2\n",
      "three    3\n",
      "dtype: int64\n"
     ]
    }
   ],
   "source": [
    "l = [1, 2, 3, 4, 5]\n",
    "v = np.arange(1, 6)\n",
    "d = {'one': 1, 'two': 2, 'three': 3}\n",
    "print('l = {}\\nv = {}\\nd = {}\\n'.format(l, v, d))\n",
    "\n",
    "obj_1 = pd.Series(l)\n",
    "obj_2 = pd.Series(v)\n",
    "obj_3 = pd.Series(d)\n",
    "\n",
    "print(f'Series of l:\\n{obj_1}\\n\\nSeries of v:\\n{obj_2}\\n\\nSeries of d:\\n{obj_3}')"
   ]
  },
  {
   "cell_type": "markdown",
   "metadata": {},
   "source": [
    "3. Преобразовать объект **Series** в **DataFrame**:\n",
    "- создать объект Series"
   ]
  },
  {
   "cell_type": "code",
   "execution_count": 3,
   "metadata": {},
   "outputs": [
    {
     "name": "stdout",
     "output_type": "stream",
     "text": [
      "Ohio      35000\n",
      "Texas     71000\n",
      "Oregon    16000\n",
      "Utah       5000\n",
      "dtype: int64\n"
     ]
    }
   ],
   "source": [
    "d_1 = {'Ohio': 35000, 'Texas': 71000, 'Oregon': 16000, 'Utah': 5000}\n",
    "obj_1 = pd.Series(d_1)\n",
    "print(obj_1)"
   ]
  },
  {
   "cell_type": "markdown",
   "metadata": {},
   "source": [
    "- преобразовать в DataFrame"
   ]
  },
  {
   "cell_type": "code",
   "execution_count": 4,
   "metadata": {},
   "outputs": [
    {
     "name": "stdout",
     "output_type": "stream",
     "text": [
      "            0\n",
      "Ohio    35000\n",
      "Texas   71000\n",
      "Oregon  16000\n",
      "Utah     5000\n"
     ]
    }
   ],
   "source": [
    "frame = pd.DataFrame(obj_1)\n",
    "print(frame)"
   ]
  },
  {
   "cell_type": "markdown",
   "metadata": {},
   "source": [
    "- объединить несколько объектов Series в Dataframe"
   ]
  },
  {
   "cell_type": "code",
   "execution_count": 5,
   "metadata": {},
   "outputs": [
    {
     "name": "stdout",
     "output_type": "stream",
     "text": [
      "Ohio          35000\n",
      "Texas         71000\n",
      "Oregon        16000\n",
      "Utah           5000\n",
      "Nevada        37000\n",
      "California    99000\n",
      "dtype: int64\n"
     ]
    }
   ],
   "source": [
    "d_2 = {'Nevada': 37000, 'California': 99000}\n",
    "obj_2 = pd.Series(d_2)\n",
    "\n",
    "frame = pd.concat((obj_1, obj_2), axis=0)\n",
    "print(frame)"
   ]
  },
  {
   "cell_type": "markdown",
   "metadata": {},
   "source": [
    "4. Присвоить имя индексу объекта **Series**"
   ]
  },
  {
   "cell_type": "code",
   "execution_count": 6,
   "metadata": {},
   "outputs": [
    {
     "name": "stdout",
     "output_type": "stream",
     "text": [
      "a    1\n",
      "b    2\n",
      "c    3\n",
      "dtype: int64\n",
      "a    1\n",
      "b    2\n",
      "c    3\n",
      "Name: name1, dtype: int64\n"
     ]
    }
   ],
   "source": [
    "obj = pd.Series({'a': 1, 'b': 2, 'c': 3})\n",
    "print(obj)\n",
    "\n",
    "obj.name = 'name1'\n",
    "print(obj)"
   ]
  },
  {
   "cell_type": "markdown",
   "metadata": {},
   "source": [
    "5. Получить элементы объекта **Series A**, которых нет в объекте **Series B**"
   ]
  },
  {
   "cell_type": "code",
   "execution_count": 7,
   "metadata": {},
   "outputs": [],
   "source": [
    "Series_A = pd.Series([4, 7, -5, 3])\n",
    "Series_B = pd.Series([1, 2, 3, 4])"
   ]
  },
  {
   "cell_type": "markdown",
   "metadata": {},
   "source": [
    "- возвратить вместе с индексами"
   ]
  },
  {
   "cell_type": "code",
   "execution_count": 8,
   "metadata": {},
   "outputs": [
    {
     "name": "stdout",
     "output_type": "stream",
     "text": [
      "1    7\n",
      "2   -5\n",
      "dtype: int64\n"
     ]
    }
   ],
   "source": [
    "res = Series_A[~Series_A.isin(Series_B)]\n",
    "print(res)"
   ]
  },
  {
   "cell_type": "markdown",
   "metadata": {},
   "source": [
    "- возвратить значения"
   ]
  },
  {
   "cell_type": "code",
   "execution_count": 9,
   "metadata": {},
   "outputs": [
    {
     "name": "stdout",
     "output_type": "stream",
     "text": [
      "[-5  7]\n"
     ]
    }
   ],
   "source": [
    "res_2 = np.setdiff1d(Series_A, Series_B)\n",
    "print(res_2)"
   ]
  },
  {
   "cell_type": "markdown",
   "metadata": {},
   "source": [
    "6. Получить не пересекающиеся элементы в двух объектах **Series**"
   ]
  },
  {
   "cell_type": "code",
   "execution_count": 10,
   "metadata": {},
   "outputs": [],
   "source": [
    "Series_A = pd.Series([4, 7, -5, 3])\n",
    "Series_B = pd.Series([1, 2, 3, 4])"
   ]
  },
  {
   "cell_type": "markdown",
   "metadata": {},
   "source": [
    "- возвратить вместе с индексами"
   ]
  },
  {
   "cell_type": "code",
   "execution_count": 11,
   "metadata": {},
   "outputs": [
    {
     "name": "stdout",
     "output_type": "stream",
     "text": [
      "1    7\n",
      "2   -5\n",
      "0    1\n",
      "1    2\n",
      "dtype: int64\n"
     ]
    }
   ],
   "source": [
    "res = pd.concat((Series_A[~Series_A.isin(Series_B)], Series_B[~Series_B.isin(Series_A)]), axis=0)\n",
    "print(res)"
   ]
  },
  {
   "cell_type": "markdown",
   "metadata": {},
   "source": [
    "- получить объединенный **Series** без повтороений"
   ]
  },
  {
   "cell_type": "code",
   "execution_count": 12,
   "metadata": {},
   "outputs": [
    {
     "name": "stdout",
     "output_type": "stream",
     "text": [
      "0   -5\n",
      "1    1\n",
      "2    2\n",
      "3    3\n",
      "4    4\n",
      "5    7\n",
      "dtype: int64\n"
     ]
    }
   ],
   "source": [
    "res_2 = pd.Series(np.union1d(Series_A, Series_B))\n",
    "print(res_2)"
   ]
  },
  {
   "cell_type": "markdown",
   "metadata": {},
   "source": [
    "- получить пересекающиеся данные"
   ]
  },
  {
   "cell_type": "code",
   "execution_count": 13,
   "metadata": {},
   "outputs": [
    {
     "name": "stdout",
     "output_type": "stream",
     "text": [
      "0    3\n",
      "1    4\n",
      "dtype: int64\n"
     ]
    }
   ],
   "source": [
    "res_3 = pd.Series(np.intersect1d(Series_A, Series_B))\n",
    "print(res_3)"
   ]
  },
  {
   "cell_type": "markdown",
   "metadata": {},
   "source": [
    "- отобрать все данные, кроме пересекающихся"
   ]
  },
  {
   "cell_type": "code",
   "execution_count": 14,
   "metadata": {},
   "outputs": [
    {
     "name": "stdout",
     "output_type": "stream",
     "text": [
      "0   -5\n",
      "1    1\n",
      "2    2\n",
      "5    7\n",
      "dtype: int64\n"
     ]
    }
   ],
   "source": [
    "res_4 = res_2[~res_2.isin(res_3)]\n",
    "print(res_4)"
   ]
  },
  {
   "cell_type": "markdown",
   "metadata": {},
   "source": [
    "- возвратить значения"
   ]
  },
  {
   "cell_type": "code",
   "execution_count": 15,
   "metadata": {},
   "outputs": [
    {
     "name": "stdout",
     "output_type": "stream",
     "text": [
      "[-5  1  2  7]\n"
     ]
    }
   ],
   "source": [
    "res_5 = np.setxor1d(Series_A, Series_B)\n",
    " \n",
    "print(res_5)"
   ]
  }
 ],
 "metadata": {
  "kernelspec": {
   "display_name": "Python 3",
   "language": "python",
   "name": "python3"
  },
  "language_info": {
   "codemirror_mode": {
    "name": "ipython",
    "version": 3
   },
   "file_extension": ".py",
   "mimetype": "text/x-python",
   "name": "python",
   "nbconvert_exporter": "python",
   "pygments_lexer": "ipython3",
   "version": "3.7.3"
  }
 },
 "nbformat": 4,
 "nbformat_minor": 4
}
