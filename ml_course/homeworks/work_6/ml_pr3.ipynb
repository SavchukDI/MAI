{
 "cells": [
  {
   "cell_type": "code",
   "execution_count": 1,
   "id": "sunrise-essex",
   "metadata": {},
   "outputs": [],
   "source": [
    "import numpy as np\n",
    "import pandas as pd\n",
    "import seaborn as sns\n",
    "import matplotlib.pyplot as plt\n",
    "import random\n",
    "import timeit\n",
    "\n",
    "from sklearn.linear_model import LogisticRegression\n",
    "from sklearn.metrics import f1_score, accuracy_score\n",
    "from sklearn.model_selection import train_test_split\n",
    "from sklearn.linear_model import LogisticRegression\n",
    "from sklearn.svm import SVC\n",
    "from sklearn.preprocessing import StandardScaler\n",
    "from sklearn.pipeline import make_pipeline"
   ]
  },
  {
   "cell_type": "markdown",
   "id": "equal-athletics",
   "metadata": {},
   "source": [
    "#1 Создать матрицу nxn из упорядоченных целых чисел от 0 до n^2, так чтобы при изменении n оно генерировалось быстрее чем  n секунд"
   ]
  },
  {
   "cell_type": "code",
   "execution_count": 2,
   "id": "domestic-olive",
   "metadata": {},
   "outputs": [],
   "source": [
    "def square_matrix(n):\n",
    "    matrix = [[j + i*n for j in range(n)] for i in range(n)]\n",
    "    #matrix = [[random.randint(0, n**2) for j in range(n)] for i in range(n)]\n",
    "\n",
    "    return matrix"
   ]
  },
  {
   "cell_type": "code",
   "execution_count": 3,
   "id": "adjusted-order",
   "metadata": {},
   "outputs": [
    {
     "data": {
      "text/plain": [
       "[[0, 1, 2, 3, 4, 5, 6, 7, 8, 9],\n",
       " [10, 11, 12, 13, 14, 15, 16, 17, 18, 19],\n",
       " [20, 21, 22, 23, 24, 25, 26, 27, 28, 29],\n",
       " [30, 31, 32, 33, 34, 35, 36, 37, 38, 39],\n",
       " [40, 41, 42, 43, 44, 45, 46, 47, 48, 49],\n",
       " [50, 51, 52, 53, 54, 55, 56, 57, 58, 59],\n",
       " [60, 61, 62, 63, 64, 65, 66, 67, 68, 69],\n",
       " [70, 71, 72, 73, 74, 75, 76, 77, 78, 79],\n",
       " [80, 81, 82, 83, 84, 85, 86, 87, 88, 89],\n",
       " [90, 91, 92, 93, 94, 95, 96, 97, 98, 99]]"
      ]
     },
     "execution_count": 3,
     "metadata": {},
     "output_type": "execute_result"
    }
   ],
   "source": [
    "square_matrix(10)"
   ]
  },
  {
   "cell_type": "code",
   "execution_count": 4,
   "id": "capable-bankruptcy",
   "metadata": {},
   "outputs": [
    {
     "name": "stdout",
     "output_type": "stream",
     "text": [
      "10.8 µs ± 621 ns per loop (mean ± std. dev. of 7 runs, 100000 loops each)\n"
     ]
    }
   ],
   "source": [
    "#%%timeit\n",
    "time_res = %timeit -o square_matrix(10)"
   ]
  },
  {
   "cell_type": "code",
   "execution_count": 97,
   "id": "christian-triumph",
   "metadata": {},
   "outputs": [
    {
     "name": "stdout",
     "output_type": "stream",
     "text": [
      "10.1 µs ± 215 ns per loop (mean ± std. dev. of 7 runs, 100000 loops each)\n",
      "1.0148682000000399e-05\n"
     ]
    }
   ],
   "source": [
    "print(time_res)\n",
    "print(time_res.average)"
   ]
  },
  {
   "cell_type": "code",
   "execution_count": 121,
   "id": "trying-sydney",
   "metadata": {},
   "outputs": [
    {
     "data": {
      "text/plain": [
       "1.0534255999996276"
      ]
     },
     "execution_count": 121,
     "metadata": {},
     "output_type": "execute_result"
    }
   ],
   "source": [
    "timeit.timeit(stmt='square_matrix(n)', setup='n=10', globals=globals(), number=100000)"
   ]
  },
  {
   "cell_type": "code",
   "execution_count": 123,
   "id": "ready-tactics",
   "metadata": {},
   "outputs": [],
   "source": [
    "def my_timeit(stmt, setup, n):\n",
    "    return timeit.timeit(stmt=stmt, setup=setup, globals=globals(), number=n) / n"
   ]
  },
  {
   "cell_type": "code",
   "execution_count": 133,
   "id": "interpreted-remainder",
   "metadata": {},
   "outputs": [
    {
     "data": {
      "text/plain": [
       "1.0529518285714273e-05"
      ]
     },
     "execution_count": 133,
     "metadata": {},
     "output_type": "execute_result"
    }
   ],
   "source": [
    "my_timeit('square_matrix(n)', 'n=10', 700000)"
   ]
  },
  {
   "cell_type": "code",
   "execution_count": 143,
   "id": "amended-bobby",
   "metadata": {},
   "outputs": [
    {
     "name": "stdout",
     "output_type": "stream",
     "text": [
      "i = 0, time = 4.1458499999862397e-07\n",
      "i = 1, time = 9.485330000006797e-07\n",
      "i = 2, time = 1.4521799999965879e-06\n",
      "i = 3, time = 2.150615000000471e-06\n",
      "i = 4, time = 3.2838769999943905e-06\n",
      "i = 5, time = 3.943403000002945e-06\n",
      "i = 6, time = 5.132877000005465e-06\n",
      "i = 7, time = 6.083486000006815e-06\n",
      "i = 8, time = 7.61678199999551e-06\n",
      "i = 9, time = 8.72090599999865e-06\n",
      "i = 10, time = 1.0555584000003363e-05\n",
      "i = 11, time = 1.1887792000006812e-05\n",
      "i = 12, time = 1.3533231000001251e-05\n",
      "i = 13, time = 1.532714500000111e-05\n",
      "i = 14, time = 1.6787761999994472e-05\n"
     ]
    }
   ],
   "source": [
    "times = []\n",
    "\n",
    "for i in range(15):\n",
    "    times.append(my_timeit('square_matrix(n)', f'n={i}', 100000))\n",
    "    print(f'i = {i}, time = {times[i]}')"
   ]
  },
  {
   "cell_type": "code",
   "execution_count": 176,
   "id": "graphic-assignment",
   "metadata": {},
   "outputs": [
    {
     "data": {
      "image/png": "[encoded data removed]",
      "text/plain": [
       "<Figure size 432x288 with 1 Axes>"
      ]
     },
     "metadata": {
      "needs_background": "light"
     },
     "output_type": "display_data"
    }
   ],
   "source": [
    "plt.plot(times)\n",
    "plt.plot([0, 14], [0, times[14]], color='darkblue', linestyle='--');"
   ]
  },
  {
   "cell_type": "markdown",
   "id": "reasonable-syracuse",
   "metadata": {},
   "source": [
    "Среднее значение по столбцам"
   ]
  },
  {
   "cell_type": "code",
   "execution_count": 5,
   "id": "following-point",
   "metadata": {},
   "outputs": [],
   "source": [
    "def col_mean(matrix):\n",
    "    mean_col = []\n",
    "    \n",
    "    for i in range(len(matrix)):\n",
    "        s = 0\n",
    "        for j in range(len(matrix[i])):\n",
    "            s += matrix[j][i]\n",
    "        mean_col.append(s/len(matrix))\n",
    "        \n",
    "    return mean_col"
   ]
  },
  {
   "cell_type": "code",
   "execution_count": 6,
   "id": "worthy-brush",
   "metadata": {},
   "outputs": [
    {
     "data": {
      "text/plain": [
       "[45.0, 46.0, 47.0, 48.0, 49.0, 50.0, 51.0, 52.0, 53.0, 54.0]"
      ]
     },
     "execution_count": 6,
     "metadata": {},
     "output_type": "execute_result"
    }
   ],
   "source": [
    "col_mean(square_matrix(10))"
   ]
  },
  {
   "cell_type": "markdown",
   "id": "grand-architecture",
   "metadata": {},
   "source": [
    "Транспонировать матрицу"
   ]
  },
  {
   "cell_type": "code",
   "execution_count": 138,
   "id": "improved-mineral",
   "metadata": {},
   "outputs": [],
   "source": [
    "def transpose_matrix(matrix):\n",
    "    matrix_T = []\n",
    "    temp = []\n",
    "    for i in range(len(matrix)):\n",
    "        for j in range(len(matrix[i])):\n",
    "            temp.append(matrix[j][i])\n",
    "        matrix_T.append(temp)\n",
    "        temp = []\n",
    "            \n",
    "    return matrix_T"
   ]
  },
  {
   "cell_type": "code",
   "execution_count": 139,
   "id": "common-nothing",
   "metadata": {},
   "outputs": [
    {
     "data": {
      "text/plain": [
       "[[0, 10, 20, 30, 40, 50, 60, 70, 80, 90],\n",
       " [1, 11, 21, 31, 41, 51, 61, 71, 81, 91],\n",
       " [2, 12, 22, 32, 42, 52, 62, 72, 82, 92],\n",
       " [3, 13, 23, 33, 43, 53, 63, 73, 83, 93],\n",
       " [4, 14, 24, 34, 44, 54, 64, 74, 84, 94],\n",
       " [5, 15, 25, 35, 45, 55, 65, 75, 85, 95],\n",
       " [6, 16, 26, 36, 46, 56, 66, 76, 86, 96],\n",
       " [7, 17, 27, 37, 47, 57, 67, 77, 87, 97],\n",
       " [8, 18, 28, 38, 48, 58, 68, 78, 88, 98],\n",
       " [9, 19, 29, 39, 49, 59, 69, 79, 89, 99]]"
      ]
     },
     "execution_count": 139,
     "metadata": {},
     "output_type": "execute_result"
    }
   ],
   "source": [
    "transpose_matrix(square_matrix(10))"
   ]
  },
  {
   "cell_type": "markdown",
   "id": "fewer-answer",
   "metadata": {},
   "source": [
    "## Работа с датасетом"
   ]
  },
  {
   "cell_type": "code",
   "execution_count": 142,
   "id": "intensive-proof",
   "metadata": {},
   "outputs": [
    {
     "data": {
      "text/html": [
       "<div>\n",
       "<style scoped>\n",
       "    .dataframe tbody tr th:only-of-type {\n",
       "        vertical-align: middle;\n",
       "    }\n",
       "\n",
       "    .dataframe tbody tr th {\n",
       "        vertical-align: top;\n",
       "    }\n",
       "\n",
       "    .dataframe thead th {\n",
       "        text-align: right;\n",
       "    }\n",
       "</style>\n",
       "<table border=\"1\" class=\"dataframe\">\n",
       "  <thead>\n",
       "    <tr style=\"text-align: right;\">\n",
       "      <th></th>\n",
       "      <th>0</th>\n",
       "      <th>1</th>\n",
       "      <th>2</th>\n",
       "      <th>3</th>\n",
       "      <th>4</th>\n",
       "      <th>5</th>\n",
       "      <th>6</th>\n",
       "      <th>7</th>\n",
       "      <th>8</th>\n",
       "      <th>9</th>\n",
       "      <th>...</th>\n",
       "      <th>45</th>\n",
       "      <th>46</th>\n",
       "      <th>47</th>\n",
       "      <th>48</th>\n",
       "      <th>49</th>\n",
       "      <th>50</th>\n",
       "      <th>51</th>\n",
       "      <th>52</th>\n",
       "      <th>53</th>\n",
       "      <th>54</th>\n",
       "    </tr>\n",
       "  </thead>\n",
       "  <tbody>\n",
       "    <tr>\n",
       "      <th>0</th>\n",
       "      <td>2683</td>\n",
       "      <td>333</td>\n",
       "      <td>35</td>\n",
       "      <td>30</td>\n",
       "      <td>26</td>\n",
       "      <td>2743</td>\n",
       "      <td>121</td>\n",
       "      <td>173</td>\n",
       "      <td>179</td>\n",
       "      <td>6572</td>\n",
       "      <td>...</td>\n",
       "      <td>0</td>\n",
       "      <td>0</td>\n",
       "      <td>0</td>\n",
       "      <td>0</td>\n",
       "      <td>0</td>\n",
       "      <td>0</td>\n",
       "      <td>0</td>\n",
       "      <td>0</td>\n",
       "      <td>0</td>\n",
       "      <td>2</td>\n",
       "    </tr>\n",
       "    <tr>\n",
       "      <th>1</th>\n",
       "      <td>2915</td>\n",
       "      <td>90</td>\n",
       "      <td>8</td>\n",
       "      <td>216</td>\n",
       "      <td>11</td>\n",
       "      <td>4433</td>\n",
       "      <td>232</td>\n",
       "      <td>228</td>\n",
       "      <td>129</td>\n",
       "      <td>4019</td>\n",
       "      <td>...</td>\n",
       "      <td>0</td>\n",
       "      <td>0</td>\n",
       "      <td>0</td>\n",
       "      <td>0</td>\n",
       "      <td>0</td>\n",
       "      <td>0</td>\n",
       "      <td>0</td>\n",
       "      <td>0</td>\n",
       "      <td>0</td>\n",
       "      <td>1</td>\n",
       "    </tr>\n",
       "    <tr>\n",
       "      <th>2</th>\n",
       "      <td>2941</td>\n",
       "      <td>162</td>\n",
       "      <td>7</td>\n",
       "      <td>698</td>\n",
       "      <td>76</td>\n",
       "      <td>2783</td>\n",
       "      <td>227</td>\n",
       "      <td>242</td>\n",
       "      <td>148</td>\n",
       "      <td>1784</td>\n",
       "      <td>...</td>\n",
       "      <td>0</td>\n",
       "      <td>0</td>\n",
       "      <td>0</td>\n",
       "      <td>0</td>\n",
       "      <td>0</td>\n",
       "      <td>0</td>\n",
       "      <td>0</td>\n",
       "      <td>0</td>\n",
       "      <td>0</td>\n",
       "      <td>2</td>\n",
       "    </tr>\n",
       "    <tr>\n",
       "      <th>3</th>\n",
       "      <td>3096</td>\n",
       "      <td>60</td>\n",
       "      <td>17</td>\n",
       "      <td>170</td>\n",
       "      <td>3</td>\n",
       "      <td>3303</td>\n",
       "      <td>231</td>\n",
       "      <td>202</td>\n",
       "      <td>99</td>\n",
       "      <td>5370</td>\n",
       "      <td>...</td>\n",
       "      <td>0</td>\n",
       "      <td>0</td>\n",
       "      <td>0</td>\n",
       "      <td>0</td>\n",
       "      <td>0</td>\n",
       "      <td>0</td>\n",
       "      <td>0</td>\n",
       "      <td>0</td>\n",
       "      <td>0</td>\n",
       "      <td>1</td>\n",
       "    </tr>\n",
       "    <tr>\n",
       "      <th>4</th>\n",
       "      <td>2999</td>\n",
       "      <td>66</td>\n",
       "      <td>8</td>\n",
       "      <td>488</td>\n",
       "      <td>37</td>\n",
       "      <td>1532</td>\n",
       "      <td>228</td>\n",
       "      <td>225</td>\n",
       "      <td>131</td>\n",
       "      <td>2290</td>\n",
       "      <td>...</td>\n",
       "      <td>0</td>\n",
       "      <td>0</td>\n",
       "      <td>0</td>\n",
       "      <td>0</td>\n",
       "      <td>0</td>\n",
       "      <td>0</td>\n",
       "      <td>0</td>\n",
       "      <td>0</td>\n",
       "      <td>0</td>\n",
       "      <td>2</td>\n",
       "    </tr>\n",
       "  </tbody>\n",
       "</table>\n",
       "<p>5 rows × 55 columns</p>\n",
       "</div>"
      ],
      "text/plain": [
       "      0    1   2    3   4     5    6    7    8     9  ...  45  46  47  48  49  \\\n",
       "0  2683  333  35   30  26  2743  121  173  179  6572  ...   0   0   0   0   0   \n",
       "1  2915   90   8  216  11  4433  232  228  129  4019  ...   0   0   0   0   0   \n",
       "2  2941  162   7  698  76  2783  227  242  148  1784  ...   0   0   0   0   0   \n",
       "3  3096   60  17  170   3  3303  231  202   99  5370  ...   0   0   0   0   0   \n",
       "4  2999   66   8  488  37  1532  228  225  131  2290  ...   0   0   0   0   0   \n",
       "\n",
       "   50  51  52  53  54  \n",
       "0   0   0   0   0   2  \n",
       "1   0   0   0   0   1  \n",
       "2   0   0   0   0   2  \n",
       "3   0   0   0   0   1  \n",
       "4   0   0   0   0   2  \n",
       "\n",
       "[5 rows x 55 columns]"
      ]
     },
     "execution_count": 142,
     "metadata": {},
     "output_type": "execute_result"
    }
   ],
   "source": [
    "data = pd.read_csv('forest_dataset.csv')\n",
    "data.head()"
   ]
  },
  {
   "cell_type": "code",
   "execution_count": 148,
   "id": "several-disabled",
   "metadata": {},
   "outputs": [],
   "source": [
    "delayed_data = data[int(0.8 * len(data)):]\n",
    "all_data = data[:int(0.8 * len(data))]"
   ]
  },
  {
   "cell_type": "code",
   "execution_count": 150,
   "id": "romance-thesaurus",
   "metadata": {},
   "outputs": [],
   "source": [
    "labels = all_data[all_data.columns[-1]].values\n",
    "feature_matrix = all_data[all_data.columns[:-1]].values"
   ]
  },
  {
   "cell_type": "code",
   "execution_count": 152,
   "id": "hungry-bicycle",
   "metadata": {},
   "outputs": [],
   "source": [
    "delayed_labels = delayed_data[delayed_data.columns[-1]].values\n",
    "delayed_feature_matrix = delayed_data[delayed_data.columns[:-1]].values"
   ]
  },
  {
   "cell_type": "code",
   "execution_count": 153,
   "id": "threatened-facing",
   "metadata": {},
   "outputs": [],
   "source": [
    "two_class_labels_indices = (labels == 1) + (labels == 2)"
   ]
  },
  {
   "cell_type": "code",
   "execution_count": 172,
   "id": "composite-stationery",
   "metadata": {},
   "outputs": [],
   "source": [
    "two_class_feature_matrix = feature_matrix[two_class_labels_indices]\n",
    "two_class_labels = labels[two_class_labels_indices]"
   ]
  },
  {
   "cell_type": "code",
   "execution_count": 178,
   "id": "prescribed-sheet",
   "metadata": {},
   "outputs": [],
   "source": [
    "train_feature_matrix, test_feature_matrix, train_labels, test_labels = train_test_split(two_class_feature_matrix, \n",
    "                                                                                        two_class_labels, test_size = 0.2)"
   ]
  },
  {
   "cell_type": "code",
   "execution_count": 213,
   "id": "better-dairy",
   "metadata": {},
   "outputs": [],
   "source": [
    "quan_two_class_feature_matrix = two_class_feature_matrix[:, :10]\n",
    "quan_two_class_labels = two_class_labels"
   ]
  },
  {
   "cell_type": "code",
   "execution_count": 214,
   "id": "japanese-breast",
   "metadata": {},
   "outputs": [],
   "source": [
    "qual_two_class_feature_matrix = two_class_feature_matrix[:, 10:]\n",
    "qual_two_class_labels = two_class_labels"
   ]
  },
  {
   "cell_type": "code",
   "execution_count": 193,
   "id": "toxic-remedy",
   "metadata": {},
   "outputs": [
    {
     "data": {
      "image/png": "[encoded data removed]",
      "text/plain": [
       "<Figure size 648x648 with 12 Axes>"
      ]
     },
     "metadata": {
      "needs_background": "light"
     },
     "output_type": "display_data"
    }
   ],
   "source": [
    "df = pd.DataFrame(train_feature_matrix)\n",
    "df.iloc[:, 0:10].hist(figsize=(9,9))\n",
    "plt.tight_layout()"
   ]
  },
  {
   "cell_type": "code",
   "execution_count": 201,
   "id": "experimental-violin",
   "metadata": {},
   "outputs": [
    {
     "name": "stdout",
     "output_type": "stream",
     "text": [
      "Accuracy: 76.74841053587647\n"
     ]
    }
   ],
   "source": [
    "model_lgr = make_pipeline(StandardScaler(), LogisticRegression())\n",
    "model_lgr.fit(train_feature_matrix, train_labels)\n",
    "y_pred = model_lgr.predict(test_feature_matrix)\n",
    "\n",
    "acc_lgr = accuracy_score(test_labels, y_pred)\n",
    "\n",
    "print(f'Accuracy: {acc_lgr*100}')"
   ]
  },
  {
   "cell_type": "code",
   "execution_count": 204,
   "id": "funny-beginning",
   "metadata": {},
   "outputs": [
    {
     "name": "stdout",
     "output_type": "stream",
     "text": [
      "Accuracy: 79.01907356948229\n"
     ]
    }
   ],
   "source": [
    "model_svc = make_pipeline(StandardScaler(), SVC())\n",
    "model_svc.fit(train_feature_matrix, train_labels)\n",
    "y_pred = model_svc.predict(test_feature_matrix)\n",
    "\n",
    "acc_svc = accuracy_score(test_labels, y_pred)\n",
    "\n",
    "print(f'Accuracy: {acc_svc*100}')"
   ]
  },
  {
   "cell_type": "code",
   "execution_count": 208,
   "id": "activated-jumping",
   "metadata": {},
   "outputs": [],
   "source": [
    "def my_pipe(features, labels):\n",
    "    train_feature_matrix, test_feature_matrix, train_labels, test_labels = train_test_split(features, \n",
    "                                                                                            labels, test_size = 0.2)\n",
    "    model_svc = make_pipeline(StandardScaler(), SVC())\n",
    "    model_svc.fit(train_feature_matrix, train_labels)\n",
    "    y_pred = model_svc.predict(test_feature_matrix)\n",
    "    acc_svc = accuracy_score(test_labels, y_pred)\n",
    "    print(f'Accuracy: {acc_svc*100}')"
   ]
  },
  {
   "cell_type": "code",
   "execution_count": 215,
   "id": "religious-blond",
   "metadata": {},
   "outputs": [
    {
     "name": "stdout",
     "output_type": "stream",
     "text": [
      "Accuracy: 79.10990009082653\n"
     ]
    }
   ],
   "source": [
    "# Все признаки\n",
    "my_pipe(two_class_feature_matrix, two_class_labels)"
   ]
  },
  {
   "cell_type": "code",
   "execution_count": 216,
   "id": "temporal-recipe",
   "metadata": {},
   "outputs": [
    {
     "name": "stdout",
     "output_type": "stream",
     "text": [
      "Accuracy: 66.30336058128974\n"
     ]
    }
   ],
   "source": [
    "# Только количественные признаки\n",
    "my_pipe(qual_two_class_feature_matrix, qual_two_class_labels)"
   ]
  },
  {
   "cell_type": "code",
   "execution_count": 217,
   "id": "cognitive-ideal",
   "metadata": {},
   "outputs": [
    {
     "name": "stdout",
     "output_type": "stream",
     "text": [
      "Accuracy: 77.47502270663034\n"
     ]
    }
   ],
   "source": [
    "# Только качественные признаки\n",
    "my_pipe(quan_two_class_feature_matrix, quan_two_class_labels)"
   ]
  }
 ],
 "metadata": {
  "kernelspec": {
   "display_name": "Python 3",
   "language": "python",
   "name": "python3"
  },
  "language_info": {
   "codemirror_mode": {
    "name": "ipython",
    "version": 3
   },
   "file_extension": ".py",
   "mimetype": "text/x-python",
   "name": "python",
   "nbconvert_exporter": "python",
   "pygments_lexer": "ipython3",
   "version": "3.7.3"
  }
 },
 "nbformat": 4,
 "nbformat_minor": 5
}
