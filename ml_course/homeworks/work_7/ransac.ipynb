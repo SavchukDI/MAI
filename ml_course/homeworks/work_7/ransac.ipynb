{
 "cells": [
  {
   "cell_type": "code",
   "execution_count": 2,
   "id": "industrial-bracket",
   "metadata": {},
   "outputs": [],
   "source": [
    "import numpy as np\n",
    "from matplotlib import pyplot as plt"
   ]
  },
  {
   "cell_type": "code",
   "execution_count": 13,
   "id": "liable-concrete",
   "metadata": {},
   "outputs": [],
   "source": [
    "def data_gen(k, b, points, percent):\n",
    "    inline_points = [[x,k*x+b + np.random.normal()] for x in np.random.uniform(0,10, size=int(points*percent))]\n",
    "    outline_points = [[x,k*x+b + np.random.normal(scale=10.0)] for x in np.random.uniform(0,10, size=int(points*(1-percent)))]\n",
    "    return np.concatenate((inline_points, outline_points))"
   ]
  },
  {
   "cell_type": "code",
   "execution_count": 14,
   "id": "informed-shape",
   "metadata": {},
   "outputs": [],
   "source": [
    "data = data_gen(3, 0, 100, 0.8)"
   ]
  },
  {
   "cell_type": "code",
   "execution_count": 15,
   "id": "working-reason",
   "metadata": {},
   "outputs": [
    {
     "data": {
      "text/plain": [
       "<matplotlib.collections.PathCollection at 0x24f32629b00>"
      ]
     },
     "execution_count": 15,
     "metadata": {},
     "output_type": "execute_result"
    },
    {
     "data": {
      "image/png": "[encoded data removed]",
      "text/plain": [
       "<Figure size 432x288 with 1 Axes>"
      ]
     },
     "metadata": {
      "needs_background": "light"
     },
     "output_type": "display_data"
    }
   ],
   "source": [
    "plt.scatter(data[:,0], data[:,1])"
   ]
  },
  {
   "cell_type": "code",
   "execution_count": 43,
   "id": "pressing-testing",
   "metadata": {},
   "outputs": [],
   "source": [
    "def line_ransac(data, iter_num=100, eps=10, inline_min=10):\n",
    "    best_score = np.inf\n",
    "    for i in range(iter_num):\n",
    "        id = np.random.choice(data.shape[0], 2, replace=False)\n",
    "        p1, p2 = data[id, :]\n",
    "        \n",
    "        k = (p2[1] - p1[1]) / (p2[0] - p1[0])\n",
    "        b = p1[1] - p1[0]*k\n",
    "        \n",
    "        inline = []\n",
    "        error = 0\n",
    "        \n",
    "        for p in np.delete(data, id, axis=0):\n",
    "            d = np.linalg.norm(np.cross(p2-p1, p1-p)) / np.linalg.norm(p2-p1)\n",
    "            if d < eps:\n",
    "                inline.append(p)\n",
    "                error += d\n",
    "        \n",
    "        if len(inline) < inline_min:\n",
    "            continue\n",
    "            \n",
    "        if error < best_score:\n",
    "            best_scroe = error\n",
    "            best_params = k, b\n",
    "            best_inline = inline\n",
    "            \n",
    "    return (best_score, best_params, best_inline)"
   ]
  },
  {
   "cell_type": "code",
   "execution_count": 44,
   "id": "suited-knight",
   "metadata": {},
   "outputs": [
    {
     "data": {
      "text/plain": [
       "(inf, (2.9096180899749373, 0.051822097257321786), 97)"
      ]
     },
     "execution_count": 44,
     "metadata": {},
     "output_type": "execute_result"
    }
   ],
   "source": [
    "data = data_gen(3, 0, 100, 0.8)\n",
    "\n",
    "score, params, inline = line_ransac(data)\n",
    "\n",
    "score, params, len(inline)"
   ]
  },
  {
   "cell_type": "code",
   "execution_count": 45,
   "id": "linear-livestock",
   "metadata": {},
   "outputs": [
    {
     "data": {
      "text/plain": [
       "[<matplotlib.lines.Line2D at 0x24f32836320>]"
      ]
     },
     "execution_count": 45,
     "metadata": {},
     "output_type": "execute_result"
    },
    {
     "data": {
      "image/png": "[encoded data removed]",
      "text/plain": [
       "<Figure size 432x288 with 1 Axes>"
      ]
     },
     "metadata": {
      "needs_background": "light"
     },
     "output_type": "display_data"
    }
   ],
   "source": [
    "plt.scatter(data[:,0], data[:,1], s=5)\n",
    "min_var = min(data[:,0])\n",
    "max_var = max(data[:,0])\n",
    "k, b = params\n",
    "plt.plot([min_var, max_var], [k*min_var+b, k*max_var+b], c='r')"
   ]
  },
  {
   "cell_type": "code",
   "execution_count": 18,
   "id": "occasional-atmosphere",
   "metadata": {},
   "outputs": [],
   "source": [
    "data = data_gen(3, 0, 100, 0.8)\n",
    "id = np.random.choice(data.shape[0], 2, replace=False)"
   ]
  },
  {
   "cell_type": "code",
   "execution_count": 19,
   "id": "federal-short",
   "metadata": {},
   "outputs": [
    {
     "data": {
      "text/plain": [
       "array([[ 5.27737401, 16.09052705],\n",
       "       [ 1.98462393,  4.84177827]])"
      ]
     },
     "execution_count": 19,
     "metadata": {},
     "output_type": "execute_result"
    }
   ],
   "source": [
    "data[id]"
   ]
  },
  {
   "cell_type": "code",
   "execution_count": 20,
   "id": "organic-sender",
   "metadata": {},
   "outputs": [],
   "source": [
    "p1, p2 = data[id[0]], data[id[1]]"
   ]
  },
  {
   "cell_type": "code",
   "execution_count": 22,
   "id": "aquatic-chain",
   "metadata": {},
   "outputs": [],
   "source": [
    "p1, p2 = data[id, :]"
   ]
  }
 ],
 "metadata": {
  "kernelspec": {
   "display_name": "Python 3",
   "language": "python",
   "name": "python3"
  },
  "language_info": {
   "codemirror_mode": {
    "name": "ipython",
    "version": 3
   },
   "file_extension": ".py",
   "mimetype": "text/x-python",
   "name": "python",
   "nbconvert_exporter": "python",
   "pygments_lexer": "ipython3",
   "version": "3.7.3"
  }
 },
 "nbformat": 4,
 "nbformat_minor": 5
}
