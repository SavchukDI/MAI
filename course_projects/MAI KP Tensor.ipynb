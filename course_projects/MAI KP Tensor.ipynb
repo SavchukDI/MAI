{
 "cells": [
  {
   "cell_type": "markdown",
   "metadata": {},
   "source": [
    "# Расчетно-графическая работа\n",
    "### Криволинейные координаты. Метрический Тензор. Тензорный анализ\n",
    "- Выполнил: **Савчук Д.И.**\n",
    "- Вариант: **20**\n",
    "- Группа: **М8О-103М-20**\n",
    "- Преподаватель: **Медведев С.В., Поповкин А.В.**\n",
    "- Дата сдачи: **tbd**\n",
    "___\n",
    "**Москва, 2020**"
   ]
  },
  {
   "cell_type": "markdown",
   "metadata": {},
   "source": [
    "### Постановка задачи\n",
    "Заданы преобразование координат на плоскости ($x$, $y$ - декартовы координаты, $x^1$, $x^2$ - криволинейные координаты) и компоненты вектора скорости в декартовых координатах.\n",
    "$$x = x^1 + (x^2)^3, y = x^2; \\nu_x = 3y^2, \\nu_y = 1$$"
   ]
  },
  {
   "cell_type": "markdown",
   "metadata": {},
   "source": [
    "### Решение\n",
    "Импорт нужных для работы программы модулей"
   ]
  },
  {
   "cell_type": "code",
   "execution_count": 1,
   "metadata": {},
   "outputs": [],
   "source": [
    "%matplotlib inline\n",
    "import numpy as np\n",
    "import sympy as sp\n",
    "from sympy.interactive import printing\n",
    "from matplotlib import pyplot as plt\n",
    "printing.init_printing(use_latex=True)\n",
    "\n",
    "x, y, z, t = sp.symbols('x y z t')\n",
    "X, Y, Z = sp.symbols('X Y Z')\n",
    "vx, vy, c = sp.symbols('vx vy c')"
   ]
  },
  {
   "cell_type": "markdown",
   "metadata": {},
   "source": [
    "Введение заданных параметров, где $X = x^1, Y = x^2$:"
   ]
  },
  {
   "cell_type": "code",
   "execution_count": 2,
   "metadata": {},
   "outputs": [],
   "source": [
    "xx = X + Y**3 #X + sp.sin(Y)\n",
    "yy = Y\n",
    "v_x = 3 * y**2\n",
    "v_y = 1"
   ]
  },
  {
   "cell_type": "markdown",
   "metadata": {},
   "source": [
    "1. \tУказать область плоскости, в которой преобразование координат взаимнооднозначно.<br>\n",
    "Взаимная однозначность декартовых координат через криволинейные на $\\mathbb{R}x\\mathbb{R}$."
   ]
  },
  {
   "cell_type": "code",
   "execution_count": 3,
   "metadata": {},
   "outputs": [
    {
     "data": {
      "image/png": "[encoded data removed]",
      "text/latex": [
       "$\\displaystyle x = X + Y^{3}$"
      ],
      "text/plain": [
       "         3\n",
       "x = X + Y "
      ]
     },
     "metadata": {},
     "output_type": "display_data"
    },
    {
     "data": {
      "image/png": "[encoded data removed]",
      "text/latex": [
       "$\\displaystyle y = Y$"
      ],
      "text/plain": [
       "y = Y"
      ]
     },
     "metadata": {},
     "output_type": "display_data"
    }
   ],
   "source": [
    "q = {x: xx, y: yy}\n",
    "v = {vx: v_x, vy: v_y}\n",
    "\n",
    "eq1 = sp.Eq(x, q[x])\n",
    "eq2 = sp.Eq(y, q[y])\n",
    "\n",
    "display(eq1, eq2)"
   ]
  },
  {
   "cell_type": "markdown",
   "metadata": {},
   "source": [
    "Криволинейные через декартовые координаты"
   ]
  },
  {
   "cell_type": "code",
   "execution_count": 4,
   "metadata": {},
   "outputs": [
    {
     "data": {
      "image/png": "[encoded data removed]",
      "text/latex": [
       "$\\displaystyle X = x - y^{3}$"
      ],
      "text/plain": [
       "         3\n",
       "X = x - y "
      ]
     },
     "metadata": {},
     "output_type": "display_data"
    },
    {
     "data": {
      "image/png": "[encoded data removed]",
      "text/latex": [
       "$\\displaystyle Y = y$"
      ],
      "text/plain": [
       "Y = y"
      ]
     },
     "metadata": {},
     "output_type": "display_data"
    }
   ],
   "source": [
    "Q = sp.solve([eq1, eq2], [X, Y])\n",
    "\n",
    "eQ1 = sp.Eq(X, Q[0][0])\n",
    "eQ2 = sp.Eq(Y, Q[0][1])\n",
    "\n",
    "display(eQ1, eQ2)"
   ]
  },
  {
   "cell_type": "markdown",
   "metadata": {},
   "source": [
    "2. Построить координатную сетку на плоскости"
   ]
  },
  {
   "cell_type": "code",
   "execution_count": 5,
   "metadata": {},
   "outputs": [
    {
     "data": {
      "image/png": "[encoded data removed]",
      "text/plain": [
       "<Figure size 648x648 with 1 Axes>"
      ]
     },
     "metadata": {
      "needs_background": "light"
     },
     "output_type": "display_data"
    }
   ],
   "source": [
    "plt.figure(figsize=(9, 9))\n",
    "plt.subplot(211)\n",
    "plt.plot(0, 0, color='black')\n",
    "plt.grid()"
   ]
  },
  {
   "cell_type": "markdown",
   "metadata": {},
   "source": [
    "3. Найти векторы основного и взаимного базисов. Изобразить их в какой-либо точке координатной сетки в каждом квадранте.<br>\n",
    "Основной базис:<br>\n",
    "$$\\overrightarrow{э_i} = \\frac{\\overrightarrow{dr}}{dx^i}$$"
   ]
  },
  {
   "cell_type": "code",
   "execution_count": 6,
   "metadata": {},
   "outputs": [
    {
     "name": "stdout",
     "output_type": "stream",
     "text": [
      "Векторы основного базиса:\n"
     ]
    },
    {
     "data": {
      "image/png": "[encoded data removed]",
      "text/latex": [
       "$\\displaystyle \\left[ 1, \\  0\\right]$"
      ],
      "text/plain": [
       "[1, 0]"
      ]
     },
     "metadata": {},
     "output_type": "display_data"
    },
    {
     "data": {
      "image/png": "[encoded data removed]",
      "text/latex": [
       "$\\displaystyle \\left[ 3 Y^{2}, \\  1\\right]$"
      ],
      "text/plain": [
       "⎡   2   ⎤\n",
       "⎣3⋅Y , 1⎦"
      ]
     },
     "metadata": {},
     "output_type": "display_data"
    }
   ],
   "source": [
    "э1 = [sp.diff(q[x], X), sp.diff(q[y], X)]\n",
    "э2 = [sp.diff(q[x], Y), sp.diff(q[y], Y)]\n",
    "\n",
    "print('Векторы основного базиса:')\n",
    "display(э1, э2)"
   ]
  },
  {
   "cell_type": "markdown",
   "metadata": {},
   "source": [
    "Построение векторных полей"
   ]
  },
  {
   "cell_type": "code",
   "execution_count": 7,
   "metadata": {},
   "outputs": [
    {
     "data": {
      "image/png": "[encoded data removed]",
      "text/plain": [
       "<Figure size 648x648 with 1 Axes>"
      ]
     },
     "metadata": {
      "needs_background": "light"
     },
     "output_type": "display_data"
    }
   ],
   "source": [
    "grid_x, grid_y = np.meshgrid(np.arange(-10, 10, 1), np.arange(-10, 10, 1))\n",
    "\n",
    "x_shape = grid_x.shape\n",
    "\n",
    "U = np.zeros(x_shape)\n",
    "V = np.zeros(x_shape)\n",
    "\n",
    "for i in range(x_shape[0]):\n",
    "    for j in range(x_shape[1]):\n",
    "        U[i,j] = э1[0].subs([(Y, i), (X, j)])\n",
    "        V[i,j] = э1[1].subs([(Y, i), (X, j)])\n",
    "\n",
    "fig = plt.figure(figsize=(9, 9))\n",
    "ax = fig.add_subplot(111)\n",
    "#q = ax.quiver(grid_x, grid_y, U, V, units='xy' ,scale=2, color='black')\n",
    "q = ax.streamplot(grid_x, grid_y, U, V, linewidth=2, cmap=plt.cm.inferno,\n",
    "              density=1, arrowstyle='->', arrowsize=1.5)\n",
    "\n",
    "ax.set_aspect('equal')\n",
    "ax.set_xlabel('$x$')\n",
    "ax.set_ylabel('$y$')\n",
    "plt.xlim(-5,5)\n",
    "plt.ylim(-5,5)\n",
    "plt.title('Vector field, э1', fontsize=20)\n",
    "plt.grid()\n",
    "plt.show()"
   ]
  },
  {
   "cell_type": "code",
   "execution_count": 8,
   "metadata": {},
   "outputs": [
    {
     "data": {
      "image/png": "[encoded data removed]",
      "text/plain": [
       "<Figure size 648x648 with 1 Axes>"
      ]
     },
     "metadata": {
      "needs_background": "light"
     },
     "output_type": "display_data"
    }
   ],
   "source": [
    "grid_x, grid_y = np.meshgrid(np.arange(-10, 10, 1), np.arange(-10, 10, 1))\n",
    "\n",
    "x_shape = grid_x.shape\n",
    "\n",
    "U = np.zeros(x_shape)\n",
    "V = np.zeros(x_shape)\n",
    "\n",
    "for i in range(x_shape[0]):\n",
    "    for j in range(x_shape[1]):\n",
    "        U[i,j] = э2[0].subs([(Y, i), (X, j)])\n",
    "        V[i,j] = э2[1].subs([(Y, i), (X, j)])\n",
    "\n",
    "fig = plt.figure(figsize=(9, 9))\n",
    "ax = fig.add_subplot(111)\n",
    "#q = ax.quiver(grid_x, grid_y, U, V, units='xy' ,scale=2, color='black')\n",
    "q = ax.streamplot(grid_x, grid_y, U, V, linewidth=2, cmap=plt.cm.inferno,\n",
    "              density=1, arrowstyle='->', arrowsize=1.5)\n",
    "\n",
    "ax.set_aspect('equal')\n",
    "ax.set_xlabel('$x$')\n",
    "ax.set_ylabel('$y$')\n",
    "plt.xlim(-5,5)\n",
    "plt.ylim(-5,5)\n",
    "plt.title('Vector field, э2',fontsize=20)\n",
    "plt.grid()\n",
    "plt.show()"
   ]
  },
  {
   "cell_type": "markdown",
   "metadata": {},
   "source": [
    "Взаимный базис:<br>\n",
    "$$\\overrightarrow{э^i} = grad(x^i)$$"
   ]
  },
  {
   "cell_type": "code",
   "execution_count": 9,
   "metadata": {},
   "outputs": [
    {
     "name": "stdout",
     "output_type": "stream",
     "text": [
      "Векторы взаимного базиса:\n"
     ]
    },
    {
     "data": {
      "image/png": "[encoded data removed]",
      "text/latex": [
       "$\\displaystyle \\left[ 1, \\  - 3 y^{2}\\right]$"
      ],
      "text/plain": [
       "⎡       2⎤\n",
       "⎣1, -3⋅y ⎦"
      ]
     },
     "metadata": {},
     "output_type": "display_data"
    },
    {
     "data": {
      "image/png": "[encoded data removed]",
      "text/latex": [
       "$\\displaystyle \\left[ 0, \\  1\\right]$"
      ],
      "text/plain": [
       "[0, 1]"
      ]
     },
     "metadata": {},
     "output_type": "display_data"
    }
   ],
   "source": [
    "Э1 = [sp.diff(Q[0][0], x), sp.diff(Q[0][0], y)]\n",
    "Э2 = [sp.diff(Q[0][1], x), sp.diff(Q[0][1], y)]\n",
    "\n",
    "print('Векторы взаимного базиса:')\n",
    "display(Э1, Э2)"
   ]
  },
  {
   "cell_type": "markdown",
   "metadata": {},
   "source": [
    "Построение векторных полей"
   ]
  },
  {
   "cell_type": "code",
   "execution_count": 10,
   "metadata": {},
   "outputs": [
    {
     "data": {
      "image/png": "[encoded data removed]",
      "text/plain": [
       "<Figure size 648x648 with 1 Axes>"
      ]
     },
     "metadata": {
      "needs_background": "light"
     },
     "output_type": "display_data"
    }
   ],
   "source": [
    "grid_x, grid_y = np.meshgrid(np.arange(-10, 10, 1), np.arange(-10, 10, 1))\n",
    "\n",
    "x_shape = grid_x.shape\n",
    "\n",
    "U = np.zeros(x_shape)\n",
    "V = np.zeros(x_shape)\n",
    "\n",
    "for i in range(x_shape[0]):\n",
    "    for j in range(x_shape[1]):\n",
    "        U[i,j] = Э1[0].subs([(y, i), (x, j)])\n",
    "        V[i,j] = Э1[1].subs([(y, i), (x, j)])\n",
    "\n",
    "fig = plt.figure(figsize=(9, 9))\n",
    "ax = fig.add_subplot(111)\n",
    "#q = ax.quiver(grid_x, grid_y, U, V, units='xy' ,scale=2, color='black')\n",
    "q = ax.streamplot(grid_x, grid_y, U, V, linewidth=2, cmap=plt.cm.inferno,\n",
    "              density=1, arrowstyle='->', arrowsize=1.5)\n",
    "\n",
    "ax.set_aspect('equal')\n",
    "ax.set_xlabel('$x$')\n",
    "ax.set_ylabel('$y$')\n",
    "plt.xlim(-5,5)\n",
    "plt.ylim(-5,5)\n",
    "plt.title('Vector field, Э1',fontsize=20)\n",
    "plt.grid()\n",
    "plt.show()"
   ]
  },
  {
   "cell_type": "code",
   "execution_count": 11,
   "metadata": {},
   "outputs": [
    {
     "data": {
      "image/png": "[encoded data removed]",
      "text/plain": [
       "<Figure size 648x648 with 1 Axes>"
      ]
     },
     "metadata": {
      "needs_background": "light"
     },
     "output_type": "display_data"
    }
   ],
   "source": [
    "grid_x, grid_y = np.meshgrid(np.arange(-10, 10, 1), np.arange(-10, 10, 1))\n",
    "\n",
    "x_shape = grid_x.shape\n",
    "\n",
    "U = np.zeros(x_shape)\n",
    "V = np.zeros(x_shape)\n",
    "\n",
    "for i in range(x_shape[0]):\n",
    "    for j in range(x_shape[1]):\n",
    "        U[i,j] = Э2[0].subs([(y, i), (x, j)])\n",
    "        V[i,j] = Э2[1].subs([(y, i), (x, j)])\n",
    "\n",
    "fig = plt.figure(figsize=(9, 9))\n",
    "ax = fig.add_subplot(111)\n",
    "#q = ax.quiver(grid_x, grid_y, U, V, units='xy' ,scale=2, color='black')\n",
    "q = ax.streamplot(grid_x, grid_y, U, V, linewidth=2, cmap=plt.cm.inferno,\n",
    "              density=1, arrowstyle='->', arrowsize=1.5)\n",
    "\n",
    "ax.set_aspect('equal')\n",
    "ax.set_xlabel('$x$')\n",
    "ax.set_ylabel('$y$')\n",
    "plt.xlim(-5,5)\n",
    "plt.ylim(-5,5)\n",
    "plt.title('Vector field, Э2',fontsize=20)\n",
    "plt.grid()\n",
    "plt.show()"
   ]
  },
  {
   "cell_type": "markdown",
   "metadata": {},
   "source": [
    "4. Найти матрицы прямого и обратного преобразования координат"
   ]
  },
  {
   "cell_type": "code",
   "execution_count": 12,
   "metadata": {},
   "outputs": [
    {
     "name": "stdout",
     "output_type": "stream",
     "text": [
      "Матрица прямого преобразования:\n"
     ]
    },
    {
     "data": {
      "text/latex": [
       "$\\displaystyle \\left[\\begin{matrix}1 & 0\\\\3 Y^{2} & 1\\end{matrix}\\right]$"
      ],
      "text/plain": [
       "⎡ 1    0⎤\n",
       "⎢       ⎥\n",
       "⎢   2   ⎥\n",
       "⎣3⋅Y   1⎦"
      ]
     },
     "metadata": {},
     "output_type": "display_data"
    }
   ],
   "source": [
    "A = sp.Matrix([э1, э2])\n",
    "print('Матрица прямого преобразования:')\n",
    "display(A)"
   ]
  },
  {
   "cell_type": "code",
   "execution_count": 13,
   "metadata": {},
   "outputs": [
    {
     "name": "stdout",
     "output_type": "stream",
     "text": [
      "Матрица обратного преобразования:\n"
     ]
    },
    {
     "data": {
      "text/latex": [
       "$\\displaystyle \\left[\\begin{matrix}1 & 0\\\\- 3 y^{2} & 1\\end{matrix}\\right]$"
      ],
      "text/plain": [
       "⎡  1    0⎤\n",
       "⎢        ⎥\n",
       "⎢    2   ⎥\n",
       "⎣-3⋅y   1⎦"
      ]
     },
     "metadata": {},
     "output_type": "display_data"
    }
   ],
   "source": [
    "B = sp.Matrix([Э1, Э2]).T\n",
    "print('Матрица обратного преобразования:')\n",
    "display(B)"
   ]
  },
  {
   "cell_type": "markdown",
   "metadata": {},
   "source": [
    "Проверка правильности найденных матриц:"
   ]
  },
  {
   "cell_type": "code",
   "execution_count": 14,
   "metadata": {},
   "outputs": [
    {
     "name": "stdout",
     "output_type": "stream",
     "text": [
      "Единичная матрица:\n"
     ]
    },
    {
     "data": {
      "text/latex": [
       "$\\displaystyle \\left[\\begin{matrix}1 & 0\\\\0 & 1\\end{matrix}\\right]$"
      ],
      "text/plain": [
       "⎡1  0⎤\n",
       "⎢    ⎥\n",
       "⎣0  1⎦"
      ]
     },
     "metadata": {},
     "output_type": "display_data"
    }
   ],
   "source": [
    "print('Единичная матрица:')\n",
    "display(A*B.subs(y, Y))"
   ]
  },
  {
   "cell_type": "markdown",
   "metadata": {},
   "source": [
    "5. Найти матрицы метрического тензора $\\| g_{ij} \\|$ и $\\| g^{ij} \\|$<br>\n",
    "- Ковариантные компоненты:<br>\n",
    "$$g_{ij} = э_iэ_j$$\n",
    "тогда\n",
    "\n",
    "$$\\| g_{ij} \\| = \n",
    " \\begin{bmatrix}\n",
    "  э_1э_1 & э_1э_2 \\\\\n",
    " э_2э_1 & э_2э_2 \\\\\n",
    " \\end{bmatrix}$$"
   ]
  },
  {
   "cell_type": "code",
   "execution_count": 15,
   "metadata": {},
   "outputs": [
    {
     "name": "stdout",
     "output_type": "stream",
     "text": [
      "Матрица метрического тензора:\n"
     ]
    },
    {
     "data": {
      "text/latex": [
       "$\\displaystyle \\left[\\begin{matrix}1 & 3 Y^{2}\\\\3 Y^{2} & 9 Y^{4} + 1\\end{matrix}\\right]$"
      ],
      "text/plain": [
       "⎡           2  ⎤\n",
       "⎢ 1      3⋅Y   ⎥\n",
       "⎢              ⎥\n",
       "⎢   2     4    ⎥\n",
       "⎣3⋅Y   9⋅Y  + 1⎦"
      ]
     },
     "metadata": {},
     "output_type": "display_data"
    }
   ],
   "source": [
    "g = sp.Matrix([[np.array(э1)@np.array(э1), np.array(э1)@np.array(э2)], \n",
    "               [np.array(э2)@np.array(э1), np.array(э2)@np.array(э2)]])\n",
    "\n",
    "print('Матрица метрического тензора:')\n",
    "display(g)"
   ]
  },
  {
   "cell_type": "markdown",
   "metadata": {},
   "source": [
    "- Контравариантные компоненты:<br>\n",
    "$$g^{ij} = э^iэ^j$$\n",
    "тогда\n",
    "\n",
    "$$\\| g^{ij} \\| = \n",
    " \\begin{bmatrix}\n",
    "  э^1э^1 & э^1э^2 \\\\\n",
    " э^2э^1 & э^2э^2 \\\\\n",
    " \\end{bmatrix}$$"
   ]
  },
  {
   "cell_type": "code",
   "execution_count": 16,
   "metadata": {},
   "outputs": [
    {
     "name": "stdout",
     "output_type": "stream",
     "text": [
      "Матрица метрического тензора:\n"
     ]
    },
    {
     "data": {
      "text/latex": [
       "$\\displaystyle \\left[\\begin{matrix}9 y^{4} + 1 & - 3 y^{2}\\\\- 3 y^{2} & 1\\end{matrix}\\right]$"
      ],
      "text/plain": [
       "⎡   4          2⎤\n",
       "⎢9⋅y  + 1  -3⋅y ⎥\n",
       "⎢               ⎥\n",
       "⎢     2         ⎥\n",
       "⎣ -3⋅y       1  ⎦"
      ]
     },
     "metadata": {},
     "output_type": "display_data"
    }
   ],
   "source": [
    "G = sp.Matrix([[np.array(Э1)@np.array(Э1), np.array(Э1)@np.array(Э2)], \n",
    "               [np.array(Э2)@np.array(Э1), np.array(Э2)@np.array(Э2)]])\n",
    "\n",
    "print('Матрица метрического тензора:')\n",
    "display(G)"
   ]
  },
  {
   "cell_type": "markdown",
   "metadata": {},
   "source": [
    "6. Найти ко- и контравариантные компоненты вектора скорости $\\overrightarrow{\\nu}$ в криволинейных координатах<br>\n",
    "- Контравариантные компоненты вектора скорости:"
   ]
  },
  {
   "cell_type": "code",
   "execution_count": 17,
   "metadata": {},
   "outputs": [
    {
     "data": {
      "image/png": "[encoded data removed]",
      "text/latex": [
       "$\\displaystyle 0$"
      ],
      "text/plain": [
       "0"
      ]
     },
     "metadata": {},
     "output_type": "display_data"
    },
    {
     "data": {
      "image/png": "[encoded data removed]",
      "text/latex": [
       "$\\displaystyle 1$"
      ],
      "text/plain": [
       "1"
      ]
     },
     "metadata": {},
     "output_type": "display_data"
    }
   ],
   "source": [
    "v1 = v[vx]*B[0] + v[vy]*B[2]\n",
    "v2 = v[vx]*B[1] + v[vy]*B[3]\n",
    "\n",
    "display(v1, v2)"
   ]
  },
  {
   "cell_type": "markdown",
   "metadata": {},
   "source": [
    "- Ковариантные компоненты вектора скорости:"
   ]
  },
  {
   "cell_type": "code",
   "execution_count": 18,
   "metadata": {},
   "outputs": [
    {
     "data": {
      "image/png": "[encoded data removed]",
      "text/latex": [
       "$\\displaystyle 3 Y^{2}$"
      ],
      "text/plain": [
       "   2\n",
       "3⋅Y "
      ]
     },
     "metadata": {},
     "output_type": "display_data"
    },
    {
     "data": {
      "image/png": "[encoded data removed]",
      "text/latex": [
       "$\\displaystyle 9 Y^{4} + 1$"
      ],
      "text/plain": [
       "   4    \n",
       "9⋅Y  + 1"
      ]
     },
     "metadata": {},
     "output_type": "display_data"
    }
   ],
   "source": [
    "V1 = sp.simplify(g[0]*v1 + g[1]*v2).subs([(x, X), (y, Y)])\n",
    "V2 = sp.simplify(g[2]*v1 + g[3]*v2).subs([(x, X), (y, Y)])\n",
    "\n",
    "display(V1, V2)"
   ]
  },
  {
   "cell_type": "markdown",
   "metadata": {},
   "source": [
    "7. Построить вектор скорости $\\overrightarrow{\\nu}$ в каждом квадранте"
   ]
  },
  {
   "cell_type": "code",
   "execution_count": 19,
   "metadata": {},
   "outputs": [
    {
     "data": {
      "image/png": "[encoded data removed]",
      "text/plain": [
       "<Figure size 648x648 with 1 Axes>"
      ]
     },
     "metadata": {
      "needs_background": "light"
     },
     "output_type": "display_data"
    }
   ],
   "source": [
    "grid_x, grid_y = np.meshgrid(np.arange(-10, 10, 1), np.arange(-10, 10, 1))\n",
    "\n",
    "x_shape = grid_x.shape\n",
    "\n",
    "U = np.zeros(x_shape)\n",
    "V = np.zeros(x_shape)\n",
    "\n",
    "for i in range(x_shape[0]):\n",
    "    for j in range(x_shape[1]):\n",
    "        U[i,j] = v[vx].subs([(y, i), (x, j)])\n",
    "        V[i,j] = v[vy]\n",
    "\n",
    "fig = plt.figure(figsize=(9, 9))\n",
    "ax = fig.add_subplot(111)\n",
    "#q = ax.quiver(grid_x, grid_y, U, V, units='xy' ,scale=2, color='black')\n",
    "q = ax.streamplot(grid_x, grid_y, U, V, linewidth=2, cmap=plt.cm.inferno,\n",
    "              density=1, arrowstyle='->', arrowsize=1.5)\n",
    "\n",
    "ax.set_aspect('equal')\n",
    "ax.set_xlabel('$x$')\n",
    "ax.set_ylabel('$y$')\n",
    "plt.xlim(-5,5)\n",
    "plt.ylim(-5,5)\n",
    "plt.title('Vector field, v',fontsize=20)\n",
    "plt.grid()\n",
    "plt.show()"
   ]
  },
  {
   "cell_type": "markdown",
   "metadata": {},
   "source": [
    "8. Найти символы Кристоффеля первого и второго рода $Г_{ki,j}$ и $Г^j_{ki}$<br>\n",
    "- Символ Кристоффеля первого рода:\n",
    "$$Г_{ki,j} = \\frac{1}{2} \\left[\\frac{\\partial g_{ji}}{\\partial x^k} + \\frac{\\partial g_{kj}}{\\partial x^i} - \\frac{\\partial g_{ik}}{\\partial x^j}\\right]$$"
   ]
  },
  {
   "cell_type": "code",
   "execution_count": 20,
   "metadata": {},
   "outputs": [
    {
     "name": "stdout",
     "output_type": "stream",
     "text": [
      "г111, г121, г211, г221, г112, г122, г212, г222\n"
     ]
    },
    {
     "data": {
      "image/png": "[encoded data removed]",
      "text/latex": [
       "$\\displaystyle \\left[ 0, \\  0, \\  0, \\  6.0 Y, \\  0, \\  0, \\  0, \\  18.0 Y^{3}\\right]$"
      ],
      "text/plain": [
       "⎡                               3⎤\n",
       "⎣0, 0, 0, 6.0⋅Y, 0, 0, 0, 18.0⋅Y ⎦"
      ]
     },
     "metadata": {},
     "output_type": "display_data"
    }
   ],
   "source": [
    "г = []\n",
    "x_i = sp.Matrix([X, Y])\n",
    "\n",
    "for j in range(2):\n",
    "    for k in range(2):\n",
    "        for i in range(2):\n",
    "            г.append(1/2 * (sp.diff(g[j, i], x_i[k]) + sp.diff(g[k, j], x_i[i]) - sp.diff(g[i, k], x_i[j])))\n",
    "\n",
    "\n",
    "print('г111, г121, г211, г221, г112, г122, г212, г222')\n",
    "display(г)"
   ]
  },
  {
   "cell_type": "markdown",
   "metadata": {},
   "source": [
    "- Символ Кристоффеля второго рода:\n",
    "$$Г^j_{ki} = \\frac{1}{2}g^{js} \\left[\\frac{\\partial g_{is}}{\\partial x^k} + \\frac{\\partial g_{ks}}{\\partial x^i} - \\frac{\\partial g_{ki}}{\\partial x^s}\\right]$$"
   ]
  },
  {
   "cell_type": "code",
   "execution_count": 21,
   "metadata": {},
   "outputs": [
    {
     "name": "stdout",
     "output_type": "stream",
     "text": [
      "Г111, Г121, Г211, Г221, Г112, Г122, Г212, Г222\n"
     ]
    },
    {
     "data": {
      "image/png": "[encoded data removed]",
      "text/latex": [
       "$\\displaystyle \\left[ 0, \\  0, \\  0, \\  6.0 Y, \\  0, \\  0, \\  0, \\  0\\right]$"
      ],
      "text/plain": [
       "[0, 0, 0, 6.0⋅Y, 0, 0, 0, 0]"
      ]
     },
     "metadata": {},
     "output_type": "display_data"
    }
   ],
   "source": [
    "Г = []\n",
    "\n",
    "for j in range(2):\n",
    "    for k in range(2):\n",
    "        for i in range(2):\n",
    "            Г.append(sp.simplify((1/2 * G[j,0] * (sp.diff(g[i,0], x_i[k]) + sp.diff(g[k,0], x_i[i]) - sp.diff(g[k,i], x_i[0])) + \\\n",
    "                     1/2 * G[j,1] * (sp.diff(g[i,1], x_i[k]) + sp.diff(g[k,1], x_i[i]) - sp.diff(g[k,i], x_i[1]))).subs(y,Y)))\n",
    "\n",
    "\n",
    "print('Г111, Г121, Г211, Г221, Г112, Г122, Г212, Г222')\n",
    "display(Г)"
   ]
  },
  {
   "cell_type": "markdown",
   "metadata": {},
   "source": [
    "9. Найти ко- и контравариантные компоненты вектора ускорения $\\overrightarrow{w}$ в криволинейных координатах<br>\n",
    "$$\\overrightarrow{w} = w^iэ_i, w^i = \\frac{\\partial V^i}{\\partial t} + V^j \\nabla_j V^i$$\n",
    "где\n",
    "$$\\nabla_j V^i = \\frac{\\partial V^i}{\\partial x^j} + V^k Г^j_{ki}$$\n",
    "- Контравариантные компоненты вектора ускорения:"
   ]
  },
  {
   "cell_type": "code",
   "execution_count": 22,
   "metadata": {},
   "outputs": [
    {
     "data": {
      "image/png": "[encoded data removed]",
      "text/latex": [
       "$\\displaystyle \\left[ 6.0 Y, \\  0\\right]$"
      ],
      "text/plain": [
       "[6.0⋅Y, 0]"
      ]
     },
     "metadata": {},
     "output_type": "display_data"
    }
   ],
   "source": [
    "w = []\n",
    "v_nabla = []\n",
    "\n",
    "v_nabla.append(sp.diff(v[vx], x_i[0]) + v[vx]*Г[0] + v[vy]*Г[1])    # 11\n",
    "v_nabla.append(sp.diff(v[vx], x_i[1]) + v[vx]*Г[2] + v[vy]*Г[3])    # 12\n",
    "v_nabla.append(sp.diff(v[vy], x_i[0]) + v[vx]*Г[4] + v[vy]*Г[5])    # 21\n",
    "v_nabla.append(sp.diff(v[vy], x_i[1]) + v[vx]*Г[6] + v[vy]*Г[7])    # 22\n",
    "\n",
    "\n",
    "w.append(sp.diff(v[vx], t) + v[vx]*v_nabla[0] + v[vy]*v_nabla[1])\n",
    "w.append(sp.diff(v[vy], t) + v[vx]*v_nabla[2] + v[vy]*v_nabla[3])\n",
    "\n",
    "display(w)"
   ]
  },
  {
   "cell_type": "markdown",
   "metadata": {},
   "source": [
    "- Ковариантные компоненты вектора ускорения:"
   ]
  },
  {
   "cell_type": "code",
   "execution_count": 23,
   "metadata": {},
   "outputs": [
    {
     "data": {
      "image/png": "[encoded data removed]",
      "text/latex": [
       "$\\displaystyle \\left[ 6.0 Y, \\  18.0 Y^{3}\\right]$"
      ],
      "text/plain": [
       "⎡             3⎤\n",
       "⎣6.0⋅Y, 18.0⋅Y ⎦"
      ]
     },
     "metadata": {},
     "output_type": "display_data"
    }
   ],
   "source": [
    "W1 = sp.simplify(g[0]*w[0] + g[1]*w[1]).subs([(x, X), (y, Y)])\n",
    "W2 = sp.simplify(g[2]*w[0] + g[3]*w[1]).subs([(x, X), (y, Y)])\n",
    "\n",
    "W = [W1, W2]\n",
    "\n",
    "display(W)"
   ]
  },
  {
   "cell_type": "markdown",
   "metadata": {},
   "source": [
    "10. Найти дивергенцию и ротор вектора скорости $\\overrightarrow{\\nu}$<br>\n",
    "- Дивергенция скорости:\n",
    "$$div V = \\nabla_1 V^1 + \\nabla_2 V^2$$"
   ]
  },
  {
   "cell_type": "code",
   "execution_count": 24,
   "metadata": {},
   "outputs": [
    {
     "data": {
      "image/png": "[encoded data removed]",
      "text/latex": [
       "$\\displaystyle 0$"
      ],
      "text/plain": [
       "0"
      ]
     },
     "metadata": {},
     "output_type": "display_data"
    }
   ],
   "source": [
    "div = v_nabla[0] + v_nabla[3]\n",
    "display(div)"
   ]
  },
  {
   "cell_type": "markdown",
   "metadata": {},
   "source": [
    "- Ротор скорости:\n",
    "$$rot V = \\varepsilon^{ijk} \\Omega_{ji} э_k$$\n",
    "где\n",
    "\n",
    "$$\\Omega_{ji} = \\frac{1}{2} \\left(\\nabla_j V_i - \\nabla_i V_j \\right), \\nabla_i V_j = \\frac{\\partial V_j}{\\partial x^i} - V_k Г^k_{ij}$$"
   ]
  },
  {
   "cell_type": "markdown",
   "metadata": {},
   "source": [
    "Вычислим ковариантные производные от ковариантых компонент градиента скаляра:\n",
    "$$\\nabla_i V_j = \\frac{\\partial V_j}{\\partial x^i} - V_k Г^k_{ij}$$"
   ]
  },
  {
   "cell_type": "code",
   "execution_count": 25,
   "metadata": {},
   "outputs": [
    {
     "data": {
      "image/png": "[encoded data removed]",
      "text/latex": [
       "$\\displaystyle \\left[ 6 Y, \\  0\\right]$"
      ],
      "text/plain": [
       "[6⋅Y, 0]"
      ]
     },
     "metadata": {},
     "output_type": "display_data"
    }
   ],
   "source": [
    "V_nabla = []\n",
    "\n",
    "V_nabla.append(sp.diff(V1, x_i[1]) - (V1*Г[2] + V2*Г[6]))\n",
    "V_nabla.append(sp.diff(V2, x_i[0]) - (V1*Г[1] + V2*Г[5]))\n",
    "\n",
    "display(V_nabla)"
   ]
  },
  {
   "cell_type": "markdown",
   "metadata": {},
   "source": [
    "Альтернированный тензор $(\\nabla V)^*$:\n",
    "$$\\Omega_{ji} = \\frac{1}{2} \\left(\\nabla_j V_i - \\nabla_i V_j \\right)$$"
   ]
  },
  {
   "cell_type": "code",
   "execution_count": 26,
   "metadata": {},
   "outputs": [
    {
     "data": {
      "image/png": "[encoded data removed]",
      "text/latex": [
       "$\\displaystyle \\left[ 3.0 Y, \\  - 3.0 Y\\right]$"
      ],
      "text/plain": [
       "[3.0⋅Y, -3.0⋅Y]"
      ]
     },
     "metadata": {},
     "output_type": "display_data"
    }
   ],
   "source": [
    "omega_12 = 1/2 * (V_nabla[0] - V_nabla[1])\n",
    "omega_21 = -omega_12\n",
    "omega = [omega_12, omega_21]\n",
    "\n",
    "display(omega)"
   ]
  },
  {
   "cell_type": "markdown",
   "metadata": {},
   "source": [
    "тогда ротор скорости равняется:\n",
    "$$rot V = \\varepsilon^{ij3} \\Omega_{ji} э_3 = \\varepsilon^{123} \\Omega_{21} э_3 + \\varepsilon^{213} \\Omega_{12} э_3 = \\Omega_{21} э_3 - \\Omega_{12} э_3 = 2 \\Omega_{21} э_3$$"
   ]
  },
  {
   "cell_type": "code",
   "execution_count": 27,
   "metadata": {},
   "outputs": [
    {
     "data": {
      "image/png": "[encoded data removed]",
      "text/latex": [
       "$\\displaystyle - 6.0 Y$"
      ],
      "text/plain": [
       "-6.0⋅Y"
      ]
     },
     "metadata": {},
     "output_type": "display_data"
    }
   ],
   "source": [
    "rot = 2*omega_21\n",
    "display(rot)"
   ]
  },
  {
   "cell_type": "markdown",
   "metadata": {},
   "source": [
    "11. Получить явные формулы для вычисления градиента и лапласиана скалярной функции $\\varphi=\\varphi(x^1,x^2)$ в заданных криволинейных координатах<br>\n",
    "Лапласиан скалярной функции:\n",
    "$$\\Delta \\varphi = \\nabla^i \\nabla_i \\varphi$$\n",
    "Градиент скалярной функции:\n",
    "$$\\nabla_i \\varphi = \\frac{\\partial \\varphi}{\\partial x^i}э^i = \\frac{\\partial \\varphi}{\\partial x^1}э^1 + \\frac{\\partial \\varphi}{\\partial x^2}э^2$$\n",
    "где ковариантные компоненты градиента скаляра:\n",
    "$$\\nabla_1 \\varphi = \\frac{\\partial \\varphi}{\\partial x^1}э^1, \\nabla_2 \\varphi = \\frac{\\partial \\varphi}{\\partial x^2}э^2$$"
   ]
  },
  {
   "cell_type": "code",
   "execution_count": 28,
   "metadata": {},
   "outputs": [
    {
     "data": {
      "image/png": "[encoded data removed]",
      "text/latex": [
       "$\\displaystyle \\frac{\\partial}{\\partial X} \\varphi{\\left(X,Y \\right)} + \\frac{\\partial}{\\partial Y} \\varphi{\\left(X,Y \\right)}$"
      ],
      "text/plain": [
       "∂                  ∂               \n",
       "──(varphi(X, Y)) + ──(varphi(X, Y))\n",
       "∂X                 ∂Y              "
      ]
     },
     "metadata": {},
     "output_type": "display_data"
    }
   ],
   "source": [
    "phi = sp.Function('varphi')\n",
    "\n",
    "grad_phi = phi(X, Y).diff(X) + phi(X, Y).diff(Y)\n",
    "display(grad_phi)"
   ]
  },
  {
   "cell_type": "markdown",
   "metadata": {},
   "source": [
    "Вычислим ковариантные производные от ковариантых компонент градиента скаляра:\n",
    "$$\\nabla_i \\nabla_j \\varphi = \\frac{\\partial}{\\partial x^i} \\frac{\\partial \\varphi}{\\partial x^j} - \\frac{\\partial \\varphi}{\\partial x^k} Г^k_{ij}$$"
   ]
  },
  {
   "cell_type": "code",
   "execution_count": 29,
   "metadata": {},
   "outputs": [
    {
     "data": {
      "image/png": "[encoded data removed]",
      "text/latex": [
       "$\\displaystyle \\left[ \\frac{\\partial^{2}}{\\partial X^{2}} \\varphi{\\left(X,Y \\right)}, \\  \\frac{\\partial^{2}}{\\partial Y\\partial X} \\varphi{\\left(X,Y \\right)}, \\  \\frac{\\partial^{2}}{\\partial Y\\partial X} \\varphi{\\left(X,Y \\right)}, \\  - 6.0 Y \\frac{\\partial}{\\partial X} \\varphi{\\left(X,Y \\right)} + \\frac{\\partial^{2}}{\\partial Y^{2}} \\varphi{\\left(X,Y \\right)}\\right]$"
      ],
      "text/plain": [
       "⎡  2                   2                    2                                 \n",
       "⎢ ∂                   ∂                    ∂                          ∂       \n",
       "⎢───(varphi(X, Y)), ─────(varphi(X, Y)), ─────(varphi(X, Y)), - 6.0⋅Y⋅──(varph\n",
       "⎢  2                ∂Y ∂X                ∂Y ∂X                        ∂X      \n",
       "⎣∂X                                                                           \n",
       "\n",
       "             2              ⎤\n",
       "            ∂               ⎥\n",
       "i(X, Y)) + ───(varphi(X, Y))⎥\n",
       "             2              ⎥\n",
       "           ∂Y               ⎦"
      ]
     },
     "metadata": {},
     "output_type": "display_data"
    }
   ],
   "source": [
    "nabla2_phi = []\n",
    "\n",
    "nabla2_phi.append(phi(X,Y).diff(X, 2) - (phi(X,Y).diff(X)*Г[0] + phi(X,Y).diff(Y)*Г[4]))    # 11\n",
    "nabla2_phi.append(phi(X,Y).diff(Y, X) - (phi(X,Y).diff(X)*Г[2] + phi(X,Y).diff(Y)*Г[6]))    # 21\n",
    "nabla2_phi.append(phi(X,Y).diff(X, Y) - (phi(X,Y).diff(X)*Г[1] + phi(X,Y).diff(Y)*Г[5]))    # 12\n",
    "nabla2_phi.append(phi(X,Y).diff(Y, 2) - (phi(X,Y).diff(X)*Г[3] + phi(X,Y).diff(Y)*Г[7]))    # 22\n",
    "\n",
    "display(nabla2_phi)"
   ]
  },
  {
   "cell_type": "markdown",
   "metadata": {},
   "source": [
    "тогда\n",
    "$$\\nabla^1 \\nabla_1 \\varphi = g^{i1} \\nabla_i \\nabla_1 \\varphi = g^{11} \\nabla_1 \\nabla_1 \\varphi + g^{21} \\nabla_2 \\nabla_1 \\varphi$$\n",
    "$$\\nabla^2 \\nabla_2 \\varphi = g^{i2} \\nabla_i \\nabla_2 \\varphi = g^{12} \\nabla_1 \\nabla_2 \\varphi + g^{22} \\nabla_2 \\nabla_2 \\varphi$$"
   ]
  },
  {
   "cell_type": "code",
   "execution_count": 30,
   "metadata": {},
   "outputs": [
    {
     "data": {
      "image/png": "[encoded data removed]",
      "text/latex": [
       "$\\displaystyle \\left[ - 3 Y^{2} \\frac{\\partial^{2}}{\\partial Y\\partial X} \\varphi{\\left(X,Y \\right)} + \\left(9 Y^{4} + 1\\right) \\frac{\\partial^{2}}{\\partial X^{2}} \\varphi{\\left(X,Y \\right)}, \\  - 3 Y^{2} \\frac{\\partial^{2}}{\\partial Y\\partial X} \\varphi{\\left(X,Y \\right)} - 6.0 Y \\frac{\\partial}{\\partial X} \\varphi{\\left(X,Y \\right)} + \\frac{\\partial^{2}}{\\partial Y^{2}} \\varphi{\\left(X,Y \\right)}\\right]$"
      ],
      "text/plain": [
       "⎡          2                               2                          2       \n",
       "⎢     2   ∂                   ⎛   4    ⎞  ∂                      2   ∂        \n",
       "⎢- 3⋅Y ⋅─────(varphi(X, Y)) + ⎝9⋅Y  + 1⎠⋅───(varphi(X, Y)), - 3⋅Y ⋅─────(varph\n",
       "⎢       ∂Y ∂X                              2                       ∂Y ∂X      \n",
       "⎣                                        ∂X                                   \n",
       "\n",
       "                                      2              ⎤\n",
       "                 ∂                   ∂               ⎥\n",
       "i(X, Y)) - 6.0⋅Y⋅──(varphi(X, Y)) + ───(varphi(X, Y))⎥\n",
       "                 ∂X                   2              ⎥\n",
       "                                    ∂Y               ⎦"
      ]
     },
     "metadata": {},
     "output_type": "display_data"
    }
   ],
   "source": [
    "nabla_phi = []\n",
    "\n",
    "nabla_phi.append((G[0, 0]*nabla2_phi[0] + G[1, 0]*nabla2_phi[1]).subs([(x, X), (y, Y)]))    # 11\n",
    "nabla_phi.append((G[0, 1]*nabla2_phi[2] + G[1, 1]*nabla2_phi[3]).subs([(x, X), (y, Y)]))    # 22\n",
    "                 \n",
    "display(nabla_phi)"
   ]
  },
  {
   "cell_type": "markdown",
   "metadata": {},
   "source": [
    "Лапласиан скалярной функции:\n",
    "$$\\Delta \\varphi = \\nabla^i \\nabla_i \\varphi = \\nabla^1 \\nabla_1 \\varphi + \\nabla^2 \\nabla_2 \\varphi$$"
   ]
  },
  {
   "cell_type": "code",
   "execution_count": 31,
   "metadata": {},
   "outputs": [
    {
     "data": {
      "image/png": "[encoded data removed]",
      "text/latex": [
       "$\\displaystyle - 6 Y^{2} \\frac{\\partial^{2}}{\\partial Y\\partial X} \\varphi{\\left(X,Y \\right)} - 6.0 Y \\frac{\\partial}{\\partial X} \\varphi{\\left(X,Y \\right)} + \\left(9 Y^{4} + 1\\right) \\frac{\\partial^{2}}{\\partial X^{2}} \\varphi{\\left(X,Y \\right)} + \\frac{\\partial^{2}}{\\partial Y^{2}} \\varphi{\\left(X,Y \\right)}$"
      ],
      "text/plain": [
       "          2                                                        2          \n",
       "     2   ∂                         ∂                  ⎛   4    ⎞  ∂           \n",
       "- 6⋅Y ⋅─────(varphi(X, Y)) - 6.0⋅Y⋅──(varphi(X, Y)) + ⎝9⋅Y  + 1⎠⋅───(varphi(X,\n",
       "       ∂Y ∂X                       ∂X                              2          \n",
       "                                                                 ∂X           \n",
       "\n",
       "         2              \n",
       "        ∂               \n",
       " Y)) + ───(varphi(X, Y))\n",
       "         2              \n",
       "       ∂Y               "
      ]
     },
     "metadata": {},
     "output_type": "display_data"
    }
   ],
   "source": [
    "delta_phi = sp.simplify(nabla_phi[0] + nabla_phi[1])\n",
    "display(delta_phi)"
   ]
  },
  {
   "cell_type": "markdown",
   "metadata": {},
   "source": [
    "12. Получить явные формулы для вычисления градиента $\\nabla \\overrightarrow{\\nu}$ и лапласиана вектора скорости $\\Delta \\overrightarrow{\\nu}$ в заданных криволинейных координатах<br>\n",
    "- Градиент вектора скорости:\n",
    "$$\\nabla \\overrightarrow{\\nu} = \\nabla_i \\nu^j э^i э_j = \\nabla_i \\nu_j э^i э^j$$"
   ]
  },
  {
   "cell_type": "code",
   "execution_count": 32,
   "metadata": {},
   "outputs": [
    {
     "data": {
      "image/png": "[encoded data removed]",
      "text/latex": [
       "$\\displaystyle 6.0 Y$"
      ],
      "text/plain": [
       "6.0⋅Y"
      ]
     },
     "metadata": {},
     "output_type": "display_data"
    }
   ],
   "source": [
    "nabla_v = v_nabla[0] + v_nabla[1] + v_nabla[2] + v_nabla[3]\n",
    "display(nabla_v)"
   ]
  },
  {
   "cell_type": "markdown",
   "metadata": {},
   "source": [
    "- Лапласиан вектора скорости:\n",
    "$$\\Delta \\overrightarrow{\\nu} = \\nabla^i \\nabla_i \\nu^k э_k = \\nabla_i \\nabla^i \\nu^k э_k$$"
   ]
  },
  {
   "cell_type": "code",
   "execution_count": 33,
   "metadata": {},
   "outputs": [
    {
     "data": {
      "image/png": "[encoded data removed]",
      "text/latex": [
       "$\\displaystyle 0$"
      ],
      "text/plain": [
       "0"
      ]
     },
     "metadata": {},
     "output_type": "display_data"
    }
   ],
   "source": [
    "nabla2_v = []\n",
    "\n",
    "nabla2_v.append(v1.diff(X, 2) - (v1.diff(X)*Г[0] + v1.diff(Y)*Г[4]))    # 11\n",
    "nabla2_v.append(v1.diff(Y, 2) - (v1.diff(X)*Г[3] + v1.diff(Y)*Г[7]))    # 21\n",
    "nabla2_v.append(v2.diff(X, 2) - (v2.diff(X)*Г[0] + v2.diff(Y)*Г[4]))    # 12\n",
    "nabla2_v.append(v2.diff(Y, 2) - (v2.diff(X)*Г[3] + v2.diff(Y)*Г[7]))    # 22\n",
    "\n",
    "delta_v = sp.simplify((G[0, 0]*nabla2_v[0] + G[1, 0]*nabla2_v[1]).subs([(x, X), (y, Y)]) + \n",
    "                      (G[0, 1]*nabla2_v[2] + G[1, 1]*nabla2_v[3]).subs([(x, X), (y, Y)]))\n",
    "\n",
    "display(delta_v)"
   ]
  }
 ],
 "metadata": {
  "kernelspec": {
   "display_name": "Python 3",
   "language": "python",
   "name": "python3"
  },
  "language_info": {
   "codemirror_mode": {
    "name": "ipython",
    "version": 3
   },
   "file_extension": ".py",
   "mimetype": "text/x-python",
   "name": "python",
   "nbconvert_exporter": "python",
   "pygments_lexer": "ipython3",
   "version": "3.7.3"
  }
 },
 "nbformat": 4,
 "nbformat_minor": 4
}
