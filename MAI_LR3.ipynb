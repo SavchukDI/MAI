{
 "cells": [
  {
   "cell_type": "markdown",
   "metadata": {},
   "source": [
    "# Лабораторная работа 3\n",
    "- Выполнил: **Савчук Д.И.**\n",
    "- Группа: **М8О-103М-20**\n",
    "- Дата сдачи: **07.11.2020**"
   ]
  },
  {
   "cell_type": "markdown",
   "metadata": {},
   "source": [
    "1. Импортируем **NumPy** под именем **np**"
   ]
  },
  {
   "cell_type": "code",
   "execution_count": 1,
   "metadata": {},
   "outputs": [],
   "source": [
    "import numpy as np"
   ]
  },
  {
   "cell_type": "markdown",
   "metadata": {},
   "source": [
    "2. Дан вектор [1, 2, 3, 4, 5], построить новый вектор с тремя нулями между каждым значением"
   ]
  },
  {
   "cell_type": "code",
   "execution_count": 2,
   "metadata": {},
   "outputs": [
    {
     "name": "stdout",
     "output_type": "stream",
     "text": [
      "[1 2 3 4 5]\n",
      "[0. 0. 0. 0. 0. 0. 0. 0. 0. 0. 0. 0. 0. 0. 0. 0. 0.]\n",
      "[1. 0. 0. 0. 2. 0. 0. 0. 3. 0. 0. 0. 4. 0. 0. 0. 5.]\n"
     ]
    }
   ],
   "source": [
    "V = np.array([1,2,3,4,5])\n",
    "n = 3\n",
    "V0 = np.zeros(len(V) + (len(V)-1)*(n))\n",
    "print(V)\n",
    "print(V0)\n",
    "V0[::n+1] = V\n",
    "print(V0)"
   ]
  },
  {
   "cell_type": "markdown",
   "metadata": {},
   "source": [
    "3. Поменять 2 строки в матрице"
   ]
  },
  {
   "cell_type": "code",
   "execution_count": 3,
   "metadata": {},
   "outputs": [
    {
     "name": "stdout",
     "output_type": "stream",
     "text": [
      "Original array:\n",
      "[[1 2 3]\n",
      " [4 5 6]\n",
      " [7 8 9]]\n",
      "Modified array:\n",
      "[[7 8 9]\n",
      " [4 5 6]\n",
      " [1 2 3]]\n"
     ]
    }
   ],
   "source": [
    "A = np.arange(1,10).reshape(3,3)\n",
    "print('Original array:')\n",
    "print(A)\n",
    "\n",
    "A[[0,2]] = A[[2,0]]\n",
    "print('Modified array:')\n",
    "print(A)"
   ]
  },
  {
   "cell_type": "markdown",
   "metadata": {},
   "source": [
    "4. Рассмотрим набор из 10 троек, описывающих 10 треугольников (с общими вершинами), найти множество уникальных отрезков, составляющих все треугольники"
   ]
  },
  {
   "cell_type": "code",
   "execution_count": 4,
   "metadata": {},
   "outputs": [
    {
     "name": "stdout",
     "output_type": "stream",
     "text": [
      "[( 1, 47) ( 1, 93) ( 3, 60) ( 3, 63) (13, 20) (13, 57) (14, 34) (14, 75)\n",
      " (15, 37) (15, 82) (16, 36) (16, 60) (20, 41) (20, 57) (20, 93) (21, 32)\n",
      " (21, 52) (32, 52) (34, 75) (35, 48) (35, 81) (36, 60) (37, 82) (41, 93)\n",
      " (47, 93) (48, 81) (54, 59) (54, 92) (59, 92) (60, 63)]\n"
     ]
    }
   ],
   "source": [
    "tr = np.random.randint(0,100,size=(10,3))\n",
    "M = np.roll(tr.repeat(2,axis=1),-1,axis=1)\n",
    "M = np.sort(M.reshape(len(M)*3,2),axis=1)\n",
    "Z = M.view(dtype=[('p0', int),('p1', int)])\n",
    "Z = np.unique(Z)\n",
    "print(Z)"
   ]
  },
  {
   "cell_type": "markdown",
   "metadata": {},
   "source": [
    "5. Дан массив C; создать массив A, что np.bincount(A) == C"
   ]
  },
  {
   "cell_type": "code",
   "execution_count": 5,
   "metadata": {},
   "outputs": [
    {
     "name": "stdout",
     "output_type": "stream",
     "text": [
      "C = [2 1 0 1 0 1 0 2 1 2]\n",
      "A = [0 0 1 3 5 7 7 8 9 9]\n",
      "np.bincount(A) = [2 1 0 1 0 1 0 2 1 2]\n",
      "True\n"
     ]
    }
   ],
   "source": [
    "C = np.bincount(np.random.randint(10, size=(10,)))\n",
    "print('C =', C)\n",
    "A = np.repeat(np.arange(len(C)), C)\n",
    "print('A =', A)\n",
    "print('np.bincount(A) =', np.bincount(A))\n",
    "equal = np.allclose(C, np.bincount(A))\n",
    "print(equal)"
   ]
  },
  {
   "cell_type": "markdown",
   "metadata": {},
   "source": [
    "6. Посчитать среднее, используя плавающее окно"
   ]
  },
  {
   "cell_type": "code",
   "execution_count": 6,
   "metadata": {},
   "outputs": [
    {
     "name": "stdout",
     "output_type": "stream",
     "text": [
      "V = [0 1 2 3 4 5 6 7 8 9]\n",
      "Cumulative sum = [ 0.  1.  3.  6. 10. 15. 21. 28. 36. 45.]\n",
      "SMA = [2. 3. 4. 5. 6. 7.]\n"
     ]
    }
   ],
   "source": [
    "V = np.arange(10)\n",
    "print('V =', V)\n",
    "n = 5\n",
    "\n",
    "temp = np.cumsum(V, dtype=float)\n",
    "print('Cumulative sum =', temp)\n",
    "temp[n:] = temp[n:] - temp[:-n]\n",
    "M = temp[n - 1:] / n\n",
    "\n",
    "print('SMA =', M)"
   ]
  },
  {
   "cell_type": "markdown",
   "metadata": {},
   "source": [
    "7. Дан вектор Z, построить матрицу, первая строка которой (Z[0],Z[1],Z[2]), каждая последующая сдвинута на 1 (последняя (Z[-3],Z[-2],Z[-1]))"
   ]
  },
  {
   "cell_type": "code",
   "execution_count": 7,
   "metadata": {},
   "outputs": [
    {
     "name": "stdout",
     "output_type": "stream",
     "text": [
      "Z = [0 1 2 3 4 5 6 7 8 9]\n",
      "Array:\n",
      "[[0. 1. 2.]\n",
      " [9. 0. 1.]\n",
      " [8. 9. 0.]\n",
      " [7. 8. 9.]]\n"
     ]
    }
   ],
   "source": [
    "n = 4\n",
    "k = 0\n",
    "Z = np.arange(10)\n",
    "print('Z =', Z)\n",
    "M = np.empty((n, 3))\n",
    "\n",
    "for i in range(n):\n",
    "    M[i] = np.array([Z[k], Z[k+1], Z[k+2]])\n",
    "    k -= 1\n",
    "\n",
    "print('Array:')\n",
    "print(M)"
   ]
  },
  {
   "cell_type": "markdown",
   "metadata": {},
   "source": [
    "8. Инвертировать булево значение, или поменять знак у числового массива без создания нового"
   ]
  },
  {
   "cell_type": "code",
   "execution_count": 8,
   "metadata": {},
   "outputs": [
    {
     "name": "stdout",
     "output_type": "stream",
     "text": [
      "V = [1 0 0 0 0 1 1 1 1 0]\n",
      "-V = [0 1 1 1 1 0 0 0 0 1]\n",
      "V = [  7   4 -10   8  -2   3  -8  -2   7   0]\n",
      "-V = [-7 -4 10 -8  2 -3  8  2 -7  0]\n"
     ]
    }
   ],
   "source": [
    "V = np.random.randint(0,2,10)\n",
    "print('V =', V)\n",
    "V = np.logical_not(V, out=V)\n",
    "print('-V =', V)\n",
    "\n",
    "V = np.random.randint(-10,10,10)\n",
    "print('V =', V)\n",
    "V = np.negative(V)\n",
    "print('-V =', V)"
   ]
  },
  {
   "cell_type": "markdown",
   "metadata": {},
   "source": [
    "9. Посчитать ранг матрицы"
   ]
  },
  {
   "cell_type": "code",
   "execution_count": 9,
   "metadata": {},
   "outputs": [
    {
     "name": "stdout",
     "output_type": "stream",
     "text": [
      "Array:\n",
      "[[1. 0. 0. 0.]\n",
      " [0. 1. 0. 0.]\n",
      " [0. 0. 1. 0.]\n",
      " [0. 0. 0. 1.]]\n",
      "Rank = 4\n"
     ]
    }
   ],
   "source": [
    "M = np.eye(4)\n",
    "print('Array:')\n",
    "print(M)\n",
    "rank = np.linalg.matrix_rank(M)\n",
    "print('Rank =', rank)"
   ]
  },
  {
   "cell_type": "markdown",
   "metadata": {},
   "source": [
    "10. Найти наиболее частое значение в массиве"
   ]
  },
  {
   "cell_type": "code",
   "execution_count": 10,
   "metadata": {},
   "outputs": [
    {
     "name": "stdout",
     "output_type": "stream",
     "text": [
      "V = [1 1 0 3 3 1 3 3 2 1 5 1 3 4 4 1 6 1 5 9]\n",
      "Number = 1\n"
     ]
    }
   ],
   "source": [
    "V = np.random.randint(0,10,20)\n",
    "print('V =', V)\n",
    "print('Number =', np.argmax(np.bincount(V)))"
   ]
  },
  {
   "cell_type": "markdown",
   "metadata": {},
   "source": [
    "11. Извлечь все смежные 3x3 блоки из 10x10 матрицы"
   ]
  },
  {
   "cell_type": "code",
   "execution_count": 11,
   "metadata": {},
   "outputs": [
    {
     "name": "stdout",
     "output_type": "stream",
     "text": [
      "Original array:\n",
      "[[9 8 3 2 5 1 3 0 1 6]\n",
      " [0 5 9 2 1 0 9 4 4 8]\n",
      " [2 6 8 7 0 3 6 4 5 1]\n",
      " [9 9 8 8 5 8 6 9 2 2]\n",
      " [7 8 7 0 6 9 1 7 5 9]\n",
      " [6 4 2 9 5 1 8 8 0 5]\n",
      " [3 2 4 2 3 8 3 4 9 0]\n",
      " [0 5 9 1 4 5 5 6 2 8]\n",
      " [6 8 7 6 8 9 3 9 8 5]\n",
      " [1 8 4 1 7 6 5 4 3 0]]\n",
      "\n",
      "3x3:\n",
      " [[[[9 8 3]\n",
      "   [0 5 9]\n",
      "   [2 6 8]]\n",
      "\n",
      "  [[8 3 2]\n",
      "   [5 9 2]\n",
      "   [6 8 7]]\n",
      "\n",
      "  [[3 2 5]\n",
      "   [9 2 1]\n",
      "   [8 7 0]]\n",
      "\n",
      "  [[2 5 1]\n",
      "   [2 1 0]\n",
      "   [7 0 3]]\n",
      "\n",
      "  [[5 1 3]\n",
      "   [1 0 9]\n",
      "   [0 3 6]]\n",
      "\n",
      "  [[1 3 0]\n",
      "   [0 9 4]\n",
      "   [3 6 4]]\n",
      "\n",
      "  [[3 0 1]\n",
      "   [9 4 4]\n",
      "   [6 4 5]]\n",
      "\n",
      "  [[0 1 6]\n",
      "   [4 4 8]\n",
      "   [4 5 1]]]\n",
      "\n",
      "\n",
      " [[[0 5 9]\n",
      "   [2 6 8]\n",
      "   [9 9 8]]\n",
      "\n",
      "  [[5 9 2]\n",
      "   [6 8 7]\n",
      "   [9 8 8]]\n",
      "\n",
      "  [[9 2 1]\n",
      "   [8 7 0]\n",
      "   [8 8 5]]\n",
      "\n",
      "  [[2 1 0]\n",
      "   [7 0 3]\n",
      "   [8 5 8]]\n",
      "\n",
      "  [[1 0 9]\n",
      "   [0 3 6]\n",
      "   [5 8 6]]\n",
      "\n",
      "  [[0 9 4]\n",
      "   [3 6 4]\n",
      "   [8 6 9]]\n",
      "\n",
      "  [[9 4 4]\n",
      "   [6 4 5]\n",
      "   [6 9 2]]\n",
      "\n",
      "  [[4 4 8]\n",
      "   [4 5 1]\n",
      "   [9 2 2]]]\n",
      "\n",
      "\n",
      " [[[2 6 8]\n",
      "   [9 9 8]\n",
      "   [7 8 7]]\n",
      "\n",
      "  [[6 8 7]\n",
      "   [9 8 8]\n",
      "   [8 7 0]]\n",
      "\n",
      "  [[8 7 0]\n",
      "   [8 8 5]\n",
      "   [7 0 6]]\n",
      "\n",
      "  [[7 0 3]\n",
      "   [8 5 8]\n",
      "   [0 6 9]]\n",
      "\n",
      "  [[0 3 6]\n",
      "   [5 8 6]\n",
      "   [6 9 1]]\n",
      "\n",
      "  [[3 6 4]\n",
      "   [8 6 9]\n",
      "   [9 1 7]]\n",
      "\n",
      "  [[6 4 5]\n",
      "   [6 9 2]\n",
      "   [1 7 5]]\n",
      "\n",
      "  [[4 5 1]\n",
      "   [9 2 2]\n",
      "   [7 5 9]]]\n",
      "\n",
      "\n",
      " [[[9 9 8]\n",
      "   [7 8 7]\n",
      "   [6 4 2]]\n",
      "\n",
      "  [[9 8 8]\n",
      "   [8 7 0]\n",
      "   [4 2 9]]\n",
      "\n",
      "  [[8 8 5]\n",
      "   [7 0 6]\n",
      "   [2 9 5]]\n",
      "\n",
      "  [[8 5 8]\n",
      "   [0 6 9]\n",
      "   [9 5 1]]\n",
      "\n",
      "  [[5 8 6]\n",
      "   [6 9 1]\n",
      "   [5 1 8]]\n",
      "\n",
      "  [[8 6 9]\n",
      "   [9 1 7]\n",
      "   [1 8 8]]\n",
      "\n",
      "  [[6 9 2]\n",
      "   [1 7 5]\n",
      "   [8 8 0]]\n",
      "\n",
      "  [[9 2 2]\n",
      "   [7 5 9]\n",
      "   [8 0 5]]]\n",
      "\n",
      "\n",
      " [[[7 8 7]\n",
      "   [6 4 2]\n",
      "   [3 2 4]]\n",
      "\n",
      "  [[8 7 0]\n",
      "   [4 2 9]\n",
      "   [2 4 2]]\n",
      "\n",
      "  [[7 0 6]\n",
      "   [2 9 5]\n",
      "   [4 2 3]]\n",
      "\n",
      "  [[0 6 9]\n",
      "   [9 5 1]\n",
      "   [2 3 8]]\n",
      "\n",
      "  [[6 9 1]\n",
      "   [5 1 8]\n",
      "   [3 8 3]]\n",
      "\n",
      "  [[9 1 7]\n",
      "   [1 8 8]\n",
      "   [8 3 4]]\n",
      "\n",
      "  [[1 7 5]\n",
      "   [8 8 0]\n",
      "   [3 4 9]]\n",
      "\n",
      "  [[7 5 9]\n",
      "   [8 0 5]\n",
      "   [4 9 0]]]\n",
      "\n",
      "\n",
      " [[[6 4 2]\n",
      "   [3 2 4]\n",
      "   [0 5 9]]\n",
      "\n",
      "  [[4 2 9]\n",
      "   [2 4 2]\n",
      "   [5 9 1]]\n",
      "\n",
      "  [[2 9 5]\n",
      "   [4 2 3]\n",
      "   [9 1 4]]\n",
      "\n",
      "  [[9 5 1]\n",
      "   [2 3 8]\n",
      "   [1 4 5]]\n",
      "\n",
      "  [[5 1 8]\n",
      "   [3 8 3]\n",
      "   [4 5 5]]\n",
      "\n",
      "  [[1 8 8]\n",
      "   [8 3 4]\n",
      "   [5 5 6]]\n",
      "\n",
      "  [[8 8 0]\n",
      "   [3 4 9]\n",
      "   [5 6 2]]\n",
      "\n",
      "  [[8 0 5]\n",
      "   [4 9 0]\n",
      "   [6 2 8]]]\n",
      "\n",
      "\n",
      " [[[3 2 4]\n",
      "   [0 5 9]\n",
      "   [6 8 7]]\n",
      "\n",
      "  [[2 4 2]\n",
      "   [5 9 1]\n",
      "   [8 7 6]]\n",
      "\n",
      "  [[4 2 3]\n",
      "   [9 1 4]\n",
      "   [7 6 8]]\n",
      "\n",
      "  [[2 3 8]\n",
      "   [1 4 5]\n",
      "   [6 8 9]]\n",
      "\n",
      "  [[3 8 3]\n",
      "   [4 5 5]\n",
      "   [8 9 3]]\n",
      "\n",
      "  [[8 3 4]\n",
      "   [5 5 6]\n",
      "   [9 3 9]]\n",
      "\n",
      "  [[3 4 9]\n",
      "   [5 6 2]\n",
      "   [3 9 8]]\n",
      "\n",
      "  [[4 9 0]\n",
      "   [6 2 8]\n",
      "   [9 8 5]]]\n",
      "\n",
      "\n",
      " [[[0 5 9]\n",
      "   [6 8 7]\n",
      "   [1 8 4]]\n",
      "\n",
      "  [[5 9 1]\n",
      "   [8 7 6]\n",
      "   [8 4 1]]\n",
      "\n",
      "  [[9 1 4]\n",
      "   [7 6 8]\n",
      "   [4 1 7]]\n",
      "\n",
      "  [[1 4 5]\n",
      "   [6 8 9]\n",
      "   [1 7 6]]\n",
      "\n",
      "  [[4 5 5]\n",
      "   [8 9 3]\n",
      "   [7 6 5]]\n",
      "\n",
      "  [[5 5 6]\n",
      "   [9 3 9]\n",
      "   [6 5 4]]\n",
      "\n",
      "  [[5 6 2]\n",
      "   [3 9 8]\n",
      "   [5 4 3]]\n",
      "\n",
      "  [[6 2 8]\n",
      "   [9 8 5]\n",
      "   [4 3 0]]]]\n"
     ]
    }
   ],
   "source": [
    "from numpy.lib import stride_tricks\n",
    "\n",
    "M = np.random.randint(0,10,(10,10))\n",
    "print('Original array:')\n",
    "print(M)\n",
    "n = 3\n",
    "i = 1 + np.shape(M)[0] - n\n",
    "j = 1 + np.shape(M)[1] - n\n",
    "C = stride_tricks.as_strided(M, shape=(i, j, n, n), strides=M.strides + M.strides, writeable=False)\n",
    "print('\\n3x3:\\n', C)"
   ]
  },
  {
   "cell_type": "markdown",
   "metadata": {},
   "source": [
    "12. Рассмотрим множество матриц (n,n) и множество из *p* векторов (n,1). Посчитать сумму *p* произведений матриц (результат имеет размерность (n,1))"
   ]
  },
  {
   "cell_type": "code",
   "execution_count": 12,
   "metadata": {},
   "outputs": [
    {
     "name": "stdout",
     "output_type": "stream",
     "text": [
      "M:\n",
      "[[[1. 1. 1. 1. 1.]\n",
      "  [1. 1. 1. 1. 1.]\n",
      "  [1. 1. 1. 1. 1.]\n",
      "  [1. 1. 1. 1. 1.]\n",
      "  [1. 1. 1. 1. 1.]]\n",
      "\n",
      " [[1. 1. 1. 1. 1.]\n",
      "  [1. 1. 1. 1. 1.]\n",
      "  [1. 1. 1. 1. 1.]\n",
      "  [1. 1. 1. 1. 1.]\n",
      "  [1. 1. 1. 1. 1.]]\n",
      "\n",
      " [[1. 1. 1. 1. 1.]\n",
      "  [1. 1. 1. 1. 1.]\n",
      "  [1. 1. 1. 1. 1.]\n",
      "  [1. 1. 1. 1. 1.]\n",
      "  [1. 1. 1. 1. 1.]]\n",
      "\n",
      " [[1. 1. 1. 1. 1.]\n",
      "  [1. 1. 1. 1. 1.]\n",
      "  [1. 1. 1. 1. 1.]\n",
      "  [1. 1. 1. 1. 1.]\n",
      "  [1. 1. 1. 1. 1.]]\n",
      "\n",
      " [[1. 1. 1. 1. 1.]\n",
      "  [1. 1. 1. 1. 1.]\n",
      "  [1. 1. 1. 1. 1.]\n",
      "  [1. 1. 1. 1. 1.]\n",
      "  [1. 1. 1. 1. 1.]]]\n",
      "V:\n",
      "[[[1.]\n",
      "  [1.]\n",
      "  [1.]\n",
      "  [1.]\n",
      "  [1.]]\n",
      "\n",
      " [[1.]\n",
      "  [1.]\n",
      "  [1.]\n",
      "  [1.]\n",
      "  [1.]]\n",
      "\n",
      " [[1.]\n",
      "  [1.]\n",
      "  [1.]\n",
      "  [1.]\n",
      "  [1.]]\n",
      "\n",
      " [[1.]\n",
      "  [1.]\n",
      "  [1.]\n",
      "  [1.]\n",
      "  [1.]]\n",
      "\n",
      " [[1.]\n",
      "  [1.]\n",
      "  [1.]\n",
      "  [1.]\n",
      "  [1.]]]\n",
      "S:\n",
      "[[25.]\n",
      " [25.]\n",
      " [25.]\n",
      " [25.]\n",
      " [25.]]\n"
     ]
    }
   ],
   "source": [
    "p, n = 5, 5\n",
    "M = np.ones((p,n,n))\n",
    "print('M:')\n",
    "print(M)\n",
    "V = np.ones((p,n,1))\n",
    "print('V:')\n",
    "print(V)\n",
    "S = M[0].dot(V[0])*n\n",
    "print('S:')\n",
    "print(S)"
   ]
  },
  {
   "cell_type": "markdown",
   "metadata": {},
   "source": [
    "13. Дан массив 16x16, посчитать сумму по блокам 4x4"
   ]
  },
  {
   "cell_type": "code",
   "execution_count": 13,
   "metadata": {},
   "outputs": [
    {
     "name": "stdout",
     "output_type": "stream",
     "text": [
      "Array:\n",
      " [[1. 1. 1. 1. 1. 1. 1. 1. 1. 1. 1. 1. 1. 1. 1. 1.]\n",
      " [1. 1. 1. 1. 1. 1. 1. 1. 1. 1. 1. 1. 1. 1. 1. 1.]\n",
      " [1. 1. 1. 1. 1. 1. 1. 1. 1. 1. 1. 1. 1. 1. 1. 1.]\n",
      " [1. 1. 1. 1. 1. 1. 1. 1. 1. 1. 1. 1. 1. 1. 1. 1.]\n",
      " [1. 1. 1. 1. 1. 1. 1. 1. 1. 1. 1. 1. 1. 1. 1. 1.]\n",
      " [1. 1. 1. 1. 1. 1. 1. 1. 1. 1. 1. 1. 1. 1. 1. 1.]\n",
      " [1. 1. 1. 1. 1. 1. 1. 1. 1. 1. 1. 1. 1. 1. 1. 1.]\n",
      " [1. 1. 1. 1. 1. 1. 1. 1. 1. 1. 1. 1. 1. 1. 1. 1.]\n",
      " [1. 1. 1. 1. 1. 1. 1. 1. 1. 1. 1. 1. 1. 1. 1. 1.]\n",
      " [1. 1. 1. 1. 1. 1. 1. 1. 1. 1. 1. 1. 1. 1. 1. 1.]\n",
      " [1. 1. 1. 1. 1. 1. 1. 1. 1. 1. 1. 1. 1. 1. 1. 1.]\n",
      " [1. 1. 1. 1. 1. 1. 1. 1. 1. 1. 1. 1. 1. 1. 1. 1.]\n",
      " [1. 1. 1. 1. 1. 1. 1. 1. 1. 1. 1. 1. 1. 1. 1. 1.]\n",
      " [1. 1. 1. 1. 1. 1. 1. 1. 1. 1. 1. 1. 1. 1. 1. 1.]\n",
      " [1. 1. 1. 1. 1. 1. 1. 1. 1. 1. 1. 1. 1. 1. 1. 1.]\n",
      " [1. 1. 1. 1. 1. 1. 1. 1. 1. 1. 1. 1. 1. 1. 1. 1.]]\n",
      "Result:\n",
      " [[16. 16. 16. 16.]\n",
      " [16. 16. 16. 16.]\n",
      " [16. 16. 16. 16.]\n",
      " [16. 16. 16. 16.]]\n"
     ]
    }
   ],
   "source": [
    "M = np.ones((16,16))\n",
    "print('Array:\\n', M)\n",
    "k = 4\n",
    "S = np.add.reduceat(np.add.reduceat(M, np.arange(0, M.shape[0], k), axis=0),\n",
    "                                       np.arange(0, M.shape[1], k), axis=1)\n",
    "print('Result:\\n', S)"
   ]
  },
  {
   "cell_type": "markdown",
   "metadata": {},
   "source": [
    "14. Найти n наибольших значений в массиве"
   ]
  },
  {
   "cell_type": "code",
   "execution_count": 14,
   "metadata": {},
   "outputs": [
    {
     "name": "stdout",
     "output_type": "stream",
     "text": [
      "V = [95 66 37 43 29 81  3 71 78 55 72 30 63 44 58  8 24 48 23 45  5 95 75 22\n",
      " 72]\n",
      "Max 5 numbers = [75 78 81 95 95]\n"
     ]
    }
   ],
   "source": [
    "V = np.random.randint(0, 100, size=(25,))\n",
    "print('V =', V)\n",
    "n = 5\n",
    "\n",
    "print('Max {} numbers = {}'.format(n, np.sort(V)[25-n:]))"
   ]
  },
  {
   "cell_type": "markdown",
   "metadata": {},
   "source": [
    "15. Построить прямое произведение массивов (все комбинации с каждым элементом)"
   ]
  },
  {
   "cell_type": "code",
   "execution_count": 15,
   "metadata": {},
   "outputs": [
    {
     "name": "stdout",
     "output_type": "stream",
     "text": [
      "[[1 4 6]\n",
      " [1 4 7]\n",
      " [1 5 6]\n",
      " [1 5 7]\n",
      " [2 4 6]\n",
      " [2 4 7]\n",
      " [2 5 6]\n",
      " [2 5 7]\n",
      " [3 4 6]\n",
      " [3 4 7]\n",
      " [3 5 6]\n",
      " [3 5 7]]\n"
     ]
    }
   ],
   "source": [
    "V = np.array([[1, 2, 3], [4, 5], [6, 7]], dtype=object)\n",
    "\n",
    "A = [np.asarray(a) for a in V]\n",
    "shape = map(len, A)\n",
    "\n",
    "i = np.indices(shape, dtype=int)\n",
    "i = i.reshape(len(A), -1).T\n",
    "\n",
    "for n in range(len(A)):\n",
    "    i[:, n] = A[n][i[:, n]]\n",
    "    \n",
    "print(i)"
   ]
  },
  {
   "cell_type": "markdown",
   "metadata": {},
   "source": [
    "16. Даны 2 массива A (8x3) и B (2x2). Найти строки в A, которые содержат элементы из каждой строки в B, независимо от порядка элементов в B"
   ]
  },
  {
   "cell_type": "code",
   "execution_count": 16,
   "metadata": {},
   "outputs": [
    {
     "name": "stdout",
     "output_type": "stream",
     "text": [
      "Array A:\n",
      " [[6 4 4]\n",
      " [4 6 2]\n",
      " [3 3 6]\n",
      " [3 9 2]\n",
      " [3 2 3]\n",
      " [1 8 7]\n",
      " [1 3 4]\n",
      " [1 0 7]]\n",
      "Array B:\n",
      " [[0 8]\n",
      " [7 9]]\n",
      "Result:\n",
      " []\n"
     ]
    }
   ],
   "source": [
    "A = np.random.randint(0,10,(8,3))\n",
    "B = np.random.randint(0,10,(2,2))\n",
    "print('Array A:\\n', A)\n",
    "print('Array B:\\n', B)\n",
    "\n",
    "\n",
    "filter_arr = []\n",
    "for k in range(np.shape(A)[1]-1):\n",
    "    for i in A[k]:\n",
    "        if i in B[0] or i in B[1]:\n",
    "            filter_arr.append(True)\n",
    "        else:\n",
    "            filter_arr.append(False)\n",
    "        \n",
    "rows = np.nonzero(filter_arr)[0]\n",
    "print('Result:\\n', rows)"
   ]
  },
  {
   "cell_type": "markdown",
   "metadata": {},
   "source": [
    "17. Дана 10x3 матрица, найти строки из неравных значений (например [2,2,3])"
   ]
  },
  {
   "cell_type": "code",
   "execution_count": 17,
   "metadata": {},
   "outputs": [
    {
     "name": "stdout",
     "output_type": "stream",
     "text": [
      "Original array:\n",
      " [[0 1 2]\n",
      " [1 2 0]\n",
      " [1 2 1]\n",
      " [0 1 2]\n",
      " [1 1 0]\n",
      " [0 2 2]\n",
      " [2 2 0]\n",
      " [1 1 0]\n",
      " [2 0 2]\n",
      " [1 0 0]]\n",
      "Modified array:\n",
      " [[0 1 2]\n",
      " [1 2 0]\n",
      " [1 2 1]\n",
      " [0 1 2]\n",
      " [1 1 0]\n",
      " [0 2 2]\n",
      " [2 2 0]\n",
      " [1 1 0]\n",
      " [2 0 2]\n",
      " [1 0 0]]\n"
     ]
    }
   ],
   "source": [
    "Z = np.random.randint(0,3,(10,3))\n",
    "print('Original array:\\n', Z)\n",
    "\n",
    "filter_arr = np.logical_and.reduce(Z[:,1:] == Z[:,:-1], axis=1)\n",
    "print('Modified array:\\n', Z[~filter_arr])"
   ]
  },
  {
   "cell_type": "markdown",
   "metadata": {},
   "source": [
    "18. Преобразовать вектор чисел в матрицу бинарных представлений"
   ]
  },
  {
   "cell_type": "code",
   "execution_count": 18,
   "metadata": {},
   "outputs": [
    {
     "name": "stdout",
     "output_type": "stream",
     "text": [
      "Input:\n",
      " [[ 4]\n",
      " [ 6]\n",
      " [27]\n",
      " [ 1]\n",
      " [25]\n",
      " [ 7]\n",
      " [21]\n",
      " [19]\n",
      " [19]\n",
      " [ 4]]\n",
      "Output:\n",
      " [[0 0 0 0 0 1 0 0]\n",
      " [0 0 0 0 0 1 1 0]\n",
      " [0 0 0 1 1 0 1 1]\n",
      " [0 0 0 0 0 0 0 1]\n",
      " [0 0 0 1 1 0 0 1]\n",
      " [0 0 0 0 0 1 1 1]\n",
      " [0 0 0 1 0 1 0 1]\n",
      " [0 0 0 1 0 0 1 1]\n",
      " [0 0 0 1 0 0 1 1]\n",
      " [0 0 0 0 0 1 0 0]]\n"
     ]
    }
   ],
   "source": [
    "V = np.random.randint(32, size=(10, ), dtype=np.uint8).reshape(10, 1)\n",
    "print('Input:\\n', V)\n",
    "print('Output:\\n', np.unpackbits(V, axis=1))"
   ]
  },
  {
   "cell_type": "markdown",
   "metadata": {},
   "source": [
    "19. Даны векторы A и B, написать einsum эквиваленты функций inner, outer, sum и mul"
   ]
  },
  {
   "cell_type": "code",
   "execution_count": 19,
   "metadata": {},
   "outputs": [
    {
     "name": "stdout",
     "output_type": "stream",
     "text": [
      "A = [0 1 2 3 4]\n",
      "B = [5 6 7 8 9]\n",
      "np.sum(A) = 10; np.einsum('i->', A) = 10\n",
      "A * B = [ 0  6 14 24 36]; np.einsum('i,i->i', A, B) = [ 0  6 14 24 36]\n",
      "np.inner(A, B) = 80; np.einsum('i,i', A, B) = 80\n",
      "\n",
      "np.outer(A, B):\n",
      " [[ 0  0  0  0  0]\n",
      " [ 5  6  7  8  9]\n",
      " [10 12 14 16 18]\n",
      " [15 18 21 24 27]\n",
      " [20 24 28 32 36]]\n",
      "np.einsum('i,j', A, B):\n",
      " [[ 0  0  0  0  0]\n",
      " [ 5  6  7  8  9]\n",
      " [10 12 14 16 18]\n",
      " [15 18 21 24 27]\n",
      " [20 24 28 32 36]]\n"
     ]
    }
   ],
   "source": [
    "A = np.arange(5)\n",
    "B = np.arange(5,10)\n",
    "print('A =', A)\n",
    "print('B =', B)\n",
    "\n",
    "print(\"np.sum(A) = {}; np.einsum('i->', A) = {}\".format(np.sum(A), np.einsum('i->', A)))\n",
    "print(\"A * B = {}; np.einsum('i,i->i', A, B) = {}\".format(A * B, np.einsum('i,i->i', A, B)))\n",
    "print(\"np.inner(A, B) = {}; np.einsum('i,i', A, B) = {}\".format(np.inner(A, B), np.einsum('i,i', A, B)))\n",
    "\n",
    "print('\\nnp.outer(A, B):\\n', np.outer(A, B))\n",
    "print(\"np.einsum('i,j', A, B):\\n\", np.einsum('i,j', A, B))"
   ]
  }
 ],
 "metadata": {
  "kernelspec": {
   "display_name": "Python 3",
   "language": "python",
   "name": "python3"
  },
  "language_info": {
   "codemirror_mode": {
    "name": "ipython",
    "version": 3
   },
   "file_extension": ".py",
   "mimetype": "text/x-python",
   "name": "python",
   "nbconvert_exporter": "python",
   "pygments_lexer": "ipython3",
   "version": "3.7.3"
  }
 },
 "nbformat": 4,
 "nbformat_minor": 4
}
