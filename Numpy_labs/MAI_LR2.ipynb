{
 "cells": [
  {
   "cell_type": "markdown",
   "metadata": {},
   "source": [
    "# Лабораторная работа 2. Numpy\n",
    "- Выполнил: **Савчук Д.И.**\n",
    "- Группа: **М8О-103М-20**\n",
    "- Дата сдачи: **24.10.20**\n",
    "___\n",
    "**Москва, 2020**"
   ]
  },
  {
   "cell_type": "markdown",
   "metadata": {},
   "source": [
    "1. Импортируем **NumPy** под именем **np**"
   ]
  },
  {
   "cell_type": "code",
   "execution_count": 1,
   "metadata": {},
   "outputs": [],
   "source": [
    "import numpy as np"
   ]
  },
  {
   "cell_type": "markdown",
   "metadata": {},
   "source": [
    "2. Перемножить матрицы 5x3 и 3x2"
   ]
  },
  {
   "cell_type": "code",
   "execution_count": 2,
   "metadata": {},
   "outputs": [
    {
     "name": "stdout",
     "output_type": "stream",
     "text": [
      "A:\n",
      "[[3 5 8]\n",
      " [7 8 5]\n",
      " [7 6 1]\n",
      " [8 0 9]\n",
      " [0 5 1]]\n",
      "B:\n",
      "[[1 9]\n",
      " [6 0]\n",
      " [6 1]]\n",
      "C:\n",
      "[[81 35]\n",
      " [85 68]\n",
      " [49 64]\n",
      " [62 81]\n",
      " [36  1]]\n",
      "Shapes:\n",
      "(5, 3) X (3, 2) = (5, 2)\n"
     ]
    }
   ],
   "source": [
    "A = np.random.randint(10, size=(5,3))\n",
    "B = np.random.randint(10, size=(3,2))\n",
    "print('A:')\n",
    "print(A)\n",
    "print('B:')\n",
    "print(B)\n",
    "\n",
    "C = A.dot(B) # or A @ B\n",
    "print('C:')\n",
    "print(C)\n",
    "print('Shapes:')\n",
    "print(f'{A.shape} X {B.shape} = {C.shape}')"
   ]
  },
  {
   "cell_type": "markdown",
   "metadata": {},
   "source": [
    "3. Дан массив, поменять знак у элементов, значения которых между 3 и 8"
   ]
  },
  {
   "cell_type": "code",
   "execution_count": 3,
   "metadata": {},
   "outputs": [
    {
     "name": "stdout",
     "output_type": "stream",
     "text": [
      "[ 0  1  2  3 -4 -5 -6 -7  8  9]\n"
     ]
    }
   ],
   "source": [
    "A = np.arange(10)\n",
    "\n",
    "A[(3 < A) & (A < 8)] *= -1\n",
    "\n",
    "print(A)"
   ]
  },
  {
   "cell_type": "markdown",
   "metadata": {},
   "source": [
    "4. Создать 5x5 матрицу со значениями в строках от 0 до 4"
   ]
  },
  {
   "cell_type": "code",
   "execution_count": 4,
   "metadata": {},
   "outputs": [
    {
     "name": "stdout",
     "output_type": "stream",
     "text": [
      "[[0 1 2 3 4]\n",
      " [0 1 2 3 4]\n",
      " [0 1 2 3 4]\n",
      " [0 1 2 3 4]\n",
      " [0 1 2 3 4]]\n"
     ]
    }
   ],
   "source": [
    "A = np.array([0, 1, 2, 3, 4]*5).reshape(5, 5)\n",
    "\n",
    "print(A)"
   ]
  },
  {
   "cell_type": "markdown",
   "metadata": {},
   "source": [
    "5. Есть генератор, сделать с его помощью массив"
   ]
  },
  {
   "cell_type": "code",
   "execution_count": 5,
   "metadata": {},
   "outputs": [
    {
     "name": "stdout",
     "output_type": "stream",
     "text": [
      "<generator object <genexpr> at 0x000002B611D58930>\n",
      "[0 1 2 3 4 5 6 7 8 9]\n",
      "[0 1 2 3 4 5 6 7 8 9]\n"
     ]
    }
   ],
   "source": [
    "A = (i for i in range(10))\n",
    "print(A)\n",
    "\n",
    "# First method\n",
    "my_array = np.array(list(A))\n",
    "print(my_array)\n",
    "\n",
    "\n",
    "# Second method\n",
    "iterr = (i for i in range(10))\n",
    "print(np.fromiter(iterr, np.int))"
   ]
  },
  {
   "cell_type": "markdown",
   "metadata": {},
   "source": [
    "6. Создать вектор размера 10 со значениями от 0 до 1, не включая ни то, ни другое"
   ]
  },
  {
   "cell_type": "code",
   "execution_count": 6,
   "metadata": {},
   "outputs": [
    {
     "name": "stdout",
     "output_type": "stream",
     "text": [
      "[0.09090909 0.18181818 0.27272727 0.36363636 0.45454545 0.54545455\n",
      " 0.63636364 0.72727273 0.81818182 0.90909091]\n"
     ]
    }
   ],
   "source": [
    "A = np.linspace(0, 1, 12)[1:-1]\n",
    "\n",
    "print(A)"
   ]
  },
  {
   "cell_type": "markdown",
   "metadata": {},
   "source": [
    "7. Отсортировать вектор"
   ]
  },
  {
   "cell_type": "code",
   "execution_count": 7,
   "metadata": {},
   "outputs": [
    {
     "name": "stdout",
     "output_type": "stream",
     "text": [
      "Original vector:\n",
      "[4 8 8 0 9 5 5 8 7 7]\n",
      "Sorted vector:\n",
      "[0 4 5 5 7 7 8 8 8 9]\n"
     ]
    }
   ],
   "source": [
    "A = np.random.randint(10, size=(10,))\n",
    "print('Original vector:')\n",
    "print(A)\n",
    "\n",
    "A = np.sort(A)\n",
    "print('Sorted vector:')\n",
    "print(A)"
   ]
  },
  {
   "cell_type": "markdown",
   "metadata": {},
   "source": [
    "8. Проверить, одинаковы ли 2 numpy массива"
   ]
  },
  {
   "cell_type": "code",
   "execution_count": 8,
   "metadata": {},
   "outputs": [
    {
     "name": "stdout",
     "output_type": "stream",
     "text": [
      "Array A:  [1 2 3]\n",
      "Array B:  [1 2 3]\n",
      "A > B\n",
      "[False False False]\n",
      "A >= B\n",
      "[ True  True  True]\n",
      "A < B\n",
      "[False False False]\n",
      "A <= B\n",
      "[ True  True  True]\n",
      "A is B?\n",
      "False\n",
      "A == B?\n",
      "True\n"
     ]
    }
   ],
   "source": [
    "A = np.array([1, 2, 3])\n",
    "B = np.array([1, 2, 3])\n",
    "\n",
    "print('Array A: ', A)\n",
    "print('Array B: ', B)\n",
    "print('A > B')\n",
    "print(np.greater(A, B))\n",
    "print('A >= B')\n",
    "print(np.greater_equal(A, B))\n",
    "print('A < B')\n",
    "print(np.less(A, B))\n",
    "print('A <= B')\n",
    "print(np.less_equal(A, B))\n",
    "print('A is B?')\n",
    "print(A is B)\n",
    "print('A == B?')\n",
    "equal = np.allclose(A,B)\n",
    "print(equal)"
   ]
  },
  {
   "cell_type": "markdown",
   "metadata": {},
   "source": [
    "9. Сделать массив неизменяемым"
   ]
  },
  {
   "cell_type": "code",
   "execution_count": 9,
   "metadata": {},
   "outputs": [
    {
     "ename": "ValueError",
     "evalue": "assignment destination is read-only",
     "output_type": "error",
     "traceback": [
      "\u001b[1;31m---------------------------------------------------------------------------\u001b[0m",
      "\u001b[1;31mValueError\u001b[0m                                Traceback (most recent call last)",
      "\u001b[1;32m<ipython-input-9-b4d212277219>\u001b[0m in \u001b[0;36m<module>\u001b[1;34m\u001b[0m\n\u001b[0;32m      2\u001b[0m \u001b[0mA\u001b[0m\u001b[1;33m.\u001b[0m\u001b[0mflags\u001b[0m\u001b[1;33m.\u001b[0m\u001b[0mwriteable\u001b[0m \u001b[1;33m=\u001b[0m \u001b[1;32mFalse\u001b[0m\u001b[1;33m\u001b[0m\u001b[1;33m\u001b[0m\u001b[0m\n\u001b[0;32m      3\u001b[0m \u001b[1;33m\u001b[0m\u001b[0m\n\u001b[1;32m----> 4\u001b[1;33m \u001b[0mA\u001b[0m\u001b[1;33m[\u001b[0m\u001b[1;36m0\u001b[0m\u001b[1;33m]\u001b[0m \u001b[1;33m=\u001b[0m \u001b[1;36m1\u001b[0m\u001b[1;33m\u001b[0m\u001b[1;33m\u001b[0m\u001b[0m\n\u001b[0m",
      "\u001b[1;31mValueError\u001b[0m: assignment destination is read-only"
     ]
    }
   ],
   "source": [
    "A = np.array([1, 2, 3, 4, 5])\n",
    "A.flags.writeable = False\n",
    "\n",
    "A[0] = 1"
   ]
  },
  {
   "cell_type": "markdown",
   "metadata": {},
   "source": [
    "10. Дан массив 10x2 (точки в декартовой системе координат), преобразовать в полярную"
   ]
  },
  {
   "cell_type": "code",
   "execution_count": 10,
   "metadata": {},
   "outputs": [
    {
     "name": "stdout",
     "output_type": "stream",
     "text": [
      "x, y:\n",
      "[[0 2]\n",
      " [6 7]\n",
      " [3 6]\n",
      " [3 2]\n",
      " [4 5]\n",
      " [4 4]\n",
      " [5 1]\n",
      " [9 4]\n",
      " [9 1]\n",
      " [7 0]]\n",
      "r:\n",
      "[2.         9.21954446 6.70820393 3.60555128 6.40312424 5.65685425\n",
      " 5.09901951 9.8488578  9.05538514 7.        ]\n",
      "phi:\n",
      "[1.57079633 0.86217005 1.10714872 0.5880026  0.89605538 0.78539816\n",
      " 0.19739556 0.41822433 0.11065722 0.        ]\n"
     ]
    }
   ],
   "source": [
    "A = np.random.randint(10, size=(10, 2))\n",
    "print('x, y:')\n",
    "print(A)\n",
    "\n",
    "x, y = A[:, 0], A[:, 1]\n",
    "#r = np.sqrt(x**2 + y**2)\n",
    "r = np.hypot(x, y)\n",
    "phi = np.arctan2(y, x)\n",
    "\n",
    "print('r:')\n",
    "print(r)\n",
    "print('phi:')\n",
    "print(phi)"
   ]
  },
  {
   "cell_type": "markdown",
   "metadata": {},
   "source": [
    "11. Заменить максимальный элемент на ноль"
   ]
  },
  {
   "cell_type": "code",
   "execution_count": 11,
   "metadata": {},
   "outputs": [
    {
     "name": "stdout",
     "output_type": "stream",
     "text": [
      "Original vector:\n",
      "[[ 1  2  3  4 50  6  7  8  9]\n",
      " [ 1  2  3  4  5  6 70  8  9]]\n",
      "Modified vector:\n",
      "[[ 1  2  3  4 50  6  7  8  9]\n",
      " [ 1  2  3  4  5  6  0  8  9]]\n"
     ]
    }
   ],
   "source": [
    "A = np.array([[1, 2, 3, 4, 50, 6, 7, 8, 9], [1, 2, 3, 4, 5, 6, 70, 8, 9]])\n",
    "print('Original vector:')\n",
    "print(A)\n",
    "\n",
    "A[A == A.max()] = 0\n",
    "\n",
    "print('Modified vector:')\n",
    "print(A)"
   ]
  },
  {
   "cell_type": "markdown",
   "metadata": {},
   "source": [
    "12. Создать структурированный массив с координатами *x*, *y* на сетке в квадрате *[0,1]x[0,1]*"
   ]
  },
  {
   "cell_type": "code",
   "execution_count": 12,
   "metadata": {},
   "outputs": [
    {
     "name": "stdout",
     "output_type": "stream",
     "text": [
      "[[(0.  , 0.  ) (0.25, 0.  ) (0.5 , 0.  ) (0.75, 0.  ) (1.  , 0.  )]\n",
      " [(0.  , 0.25) (0.25, 0.25) (0.5 , 0.25) (0.75, 0.25) (1.  , 0.25)]\n",
      " [(0.  , 0.5 ) (0.25, 0.5 ) (0.5 , 0.5 ) (0.75, 0.5 ) (1.  , 0.5 )]\n",
      " [(0.  , 0.75) (0.25, 0.75) (0.5 , 0.75) (0.75, 0.75) (1.  , 0.75)]\n",
      " [(0.  , 1.  ) (0.25, 1.  ) (0.5 , 1.  ) (0.75, 1.  ) (1.  , 1.  )]]\n"
     ]
    }
   ],
   "source": [
    "A = np.zeros((5,5), [('x',float),('y',float)])\n",
    "A['x'], A['y'] = np.meshgrid(np.linspace(0,1,5), np.linspace(0,1,5))\n",
    "print(A)"
   ]
  },
  {
   "cell_type": "markdown",
   "metadata": {},
   "source": [
    "13. Из двух массивов сделать матрицу Коши *[C]* (Cij = 1/(xi - yj))"
   ]
  },
  {
   "cell_type": "code",
   "execution_count": 13,
   "metadata": {},
   "outputs": [
    {
     "name": "stdout",
     "output_type": "stream",
     "text": [
      "x:\n",
      "[0 1 2 3 4 5]\n",
      "y:\n",
      "[0.2 1.2 2.2 3.2 4.2 5.2]\n",
      "First method:\n",
      "[[-5.         -0.83333333 -0.45454545 -0.3125     -0.23809524 -0.19230769]\n",
      " [ 1.25       -5.         -0.83333333 -0.45454545 -0.3125     -0.23809524]\n",
      " [ 0.55555556  1.25       -5.         -0.83333333 -0.45454545 -0.3125    ]\n",
      " [ 0.35714286  0.55555556  1.25       -5.         -0.83333333 -0.45454545]\n",
      " [ 0.26315789  0.35714286  0.55555556  1.25       -5.         -0.83333333]\n",
      " [ 0.20833333  0.26315789  0.35714286  0.55555556  1.25       -5.        ]]\n",
      "Second method:\n",
      "[[-5.         -0.83333333 -0.45454545 -0.3125     -0.23809524 -0.19230769]\n",
      " [ 1.25       -5.         -0.83333333 -0.45454545 -0.3125     -0.23809524]\n",
      " [ 0.55555556  1.25       -5.         -0.83333333 -0.45454545 -0.3125    ]\n",
      " [ 0.35714286  0.55555556  1.25       -5.         -0.83333333 -0.45454545]\n",
      " [ 0.26315789  0.35714286  0.55555556  1.25       -5.         -0.83333333]\n",
      " [ 0.20833333  0.26315789  0.35714286  0.55555556  1.25       -5.        ]]\n"
     ]
    }
   ],
   "source": [
    "x = np.arange(6)\n",
    "y = x + .2\n",
    "print('x:')\n",
    "print(x)\n",
    "print('y:')\n",
    "print(y)\n",
    "\n",
    "# First method:\n",
    "Z = np.empty([len(x), len(y)])\n",
    "\n",
    "for i in range(len(x)):\n",
    "    for j in range(len(y)):\n",
    "        Z[i, j] = 1 / (x[i] - y[j])\n",
    "\n",
    "print('First method:')\n",
    "print(Z)\n",
    "\n",
    "# Second method\n",
    "C = 1.0 / np.subtract.outer(x, y)\n",
    "print('Second method:')\n",
    "print(C)"
   ]
  },
  {
   "cell_type": "markdown",
   "metadata": {},
   "source": [
    "14. Найти минимальное и максимальное значение, принимаемое каждым числовым типом numpy"
   ]
  },
  {
   "cell_type": "code",
   "execution_count": 14,
   "metadata": {},
   "outputs": [
    {
     "name": "stdout",
     "output_type": "stream",
     "text": [
      "<class 'numpy.int8'> min = -128\n",
      "<class 'numpy.int8'> max = 127\n",
      "<class 'numpy.int32'> min = -2147483648\n",
      "<class 'numpy.int32'> max = 2147483647\n",
      "<class 'numpy.int64'> min = -9223372036854775808\n",
      "<class 'numpy.int64'> max = 9223372036854775807\n",
      "<class 'numpy.float32'> min = -3.4028234663852886e+38\n",
      "<class 'numpy.float32'> max = 3.4028234663852886e+38\n",
      "<class 'numpy.float64'> min = -1.7976931348623157e+308\n",
      "<class 'numpy.float64'> max = 1.7976931348623157e+308\n"
     ]
    }
   ],
   "source": [
    "for dtype in [np.int8, np.int32, np.int64]:\n",
    "   print(f'{dtype} min = {np.iinfo(dtype).min}')\n",
    "   print(f'{dtype} max = {np.iinfo(dtype).max}')\n",
    "for dtype in [np.float32, np.float64]:\n",
    "   print(f'{dtype} min = {np.finfo(dtype).min}')\n",
    "   print(f'{dtype} max = {np.finfo(dtype).max}')"
   ]
  },
  {
   "cell_type": "markdown",
   "metadata": {},
   "source": [
    "15. Напечатать все значения в массиве"
   ]
  },
  {
   "cell_type": "code",
   "execution_count": 15,
   "metadata": {},
   "outputs": [
    {
     "name": "stdout",
     "output_type": "stream",
     "text": [
      "[[0. 0. 0. 0. 0. 0. 0. 0. 0. 0. 0. 0. 0. 0. 0.]\n",
      " [0. 0. 0. 0. 0. 0. 0. 0. 0. 0. 0. 0. 0. 0. 0.]\n",
      " [0. 0. 0. 0. 0. 0. 0. 0. 0. 0. 0. 0. 0. 0. 0.]\n",
      " [0. 0. 0. 0. 0. 0. 0. 0. 0. 0. 0. 0. 0. 0. 0.]\n",
      " [0. 0. 0. 0. 0. 0. 0. 0. 0. 0. 0. 0. 0. 0. 0.]\n",
      " [0. 0. 0. 0. 0. 0. 0. 0. 0. 0. 0. 0. 0. 0. 0.]\n",
      " [0. 0. 0. 0. 0. 0. 0. 0. 0. 0. 0. 0. 0. 0. 0.]\n",
      " [0. 0. 0. 0. 0. 0. 0. 0. 0. 0. 0. 0. 0. 0. 0.]\n",
      " [0. 0. 0. 0. 0. 0. 0. 0. 0. 0. 0. 0. 0. 0. 0.]\n",
      " [0. 0. 0. 0. 0. 0. 0. 0. 0. 0. 0. 0. 0. 0. 0.]\n",
      " [0. 0. 0. 0. 0. 0. 0. 0. 0. 0. 0. 0. 0. 0. 0.]\n",
      " [0. 0. 0. 0. 0. 0. 0. 0. 0. 0. 0. 0. 0. 0. 0.]\n",
      " [0. 0. 0. 0. 0. 0. 0. 0. 0. 0. 0. 0. 0. 0. 0.]\n",
      " [0. 0. 0. 0. 0. 0. 0. 0. 0. 0. 0. 0. 0. 0. 0.]\n",
      " [0. 0. 0. 0. 0. 0. 0. 0. 0. 0. 0. 0. 0. 0. 0.]]\n"
     ]
    }
   ],
   "source": [
    "A = np.zeros((15,15))\n",
    "print(A)"
   ]
  },
  {
   "cell_type": "markdown",
   "metadata": {},
   "source": [
    "16. Найти ближайшее к заданному значению число в заданном массиве"
   ]
  },
  {
   "cell_type": "code",
   "execution_count": 16,
   "metadata": {},
   "outputs": [
    {
     "name": "stdout",
     "output_type": "stream",
     "text": [
      "A:\n",
      "[10 92 76 39  7 72  4 91  1 25 67 73 12 35  9 12 23 16 99 29 51 42 37  7\n",
      " 51 77 12 28 26 91 45 47 35 94 63 47 33 33 92 94  2 29 80  8 30 89  0 33\n",
      " 23 92 58 28 55 10  5 62 34  3 84 27 30 49 70 53 35 86 40 51 77 91  9 46\n",
      " 42 41  3 96 96 92 44 15 97 71 59 85 99 12 61 71 87 96 14 69 70 97  6 79\n",
      " 51 68 92 65]\n",
      "x = 84.64963469678412\n",
      "Nearest number = 85\n"
     ]
    }
   ],
   "source": [
    "A = np.random.randint(100, size=(100, ))\n",
    "x = np.random.uniform(0,100)\n",
    "print('A:')\n",
    "print(A)\n",
    "print('x =', x)\n",
    "\n",
    "index = np.argmin(np.abs(A-x))\n",
    "print('Nearest number =', A[index])"
   ]
  },
  {
   "cell_type": "markdown",
   "metadata": {},
   "source": [
    "17. Создать структурированный массив, представляющий координату (x,y) и цвет (r,g,b)"
   ]
  },
  {
   "cell_type": "code",
   "execution_count": 17,
   "metadata": {},
   "outputs": [
    {
     "name": "stdout",
     "output_type": "stream",
     "text": [
      "[((0., 0.), (0., 0., 0.)) ((0., 0.), (0., 0., 0.))\n",
      " ((0., 0.), (0., 0., 0.)) ((0., 0.), (0., 0., 0.))]\n"
     ]
    }
   ],
   "source": [
    " A = np.zeros(4, [ ('position', [ ('x', float),\n",
    "                                   ('y', float)]),\n",
    "                    ('color',    [ ('r', float),\n",
    "                                   ('g', float),\n",
    "                                   ('b', float)])])\n",
    "print(A)"
   ]
  },
  {
   "cell_type": "markdown",
   "metadata": {},
   "source": [
    "18. Дан массив (100,2) координат, найти расстояние от каждой точки до каждой"
   ]
  },
  {
   "cell_type": "code",
   "execution_count": 18,
   "metadata": {},
   "outputs": [
    {
     "name": "stdout",
     "output_type": "stream",
     "text": [
      "[[0.         1.         3.16227766]\n",
      " [1.         0.         3.        ]\n",
      " [3.16227766 3.         0.        ]]\n"
     ]
    }
   ],
   "source": [
    "import scipy.spatial\n",
    "\n",
    "A = np.array([[1, 1], [2, 1], [2, 4]])\n",
    "D = scipy.spatial.distance.cdist(A, A, 'euclidean')\n",
    "\n",
    "print(D)\n",
    "\n",
    "# For 100 dots\n",
    "A = np.random.randint(100, size=(100, 2))\n",
    "D = scipy.spatial.distance.cdist(A, A, 'euclidean')\n",
    "\n",
    "#print(D)"
   ]
  },
  {
   "cell_type": "markdown",
   "metadata": {},
   "source": [
    "19. Преобразовать массив из float в int"
   ]
  },
  {
   "cell_type": "code",
   "execution_count": 19,
   "metadata": {},
   "outputs": [
    {
     "name": "stdout",
     "output_type": "stream",
     "text": [
      "Data type of the array A is: int32\n",
      "[0 1 2 3 4 5 6 7 8 9]\n",
      "Data type of the array A is: float64\n",
      "[0. 1. 2. 3. 4. 5. 6. 7. 8. 9.]\n"
     ]
    }
   ],
   "source": [
    "A = np.arange(10, dtype=np.int32)\n",
    "print(\"Data type of the array A is:\", A.dtype)\n",
    "print(A)\n",
    "A = A.astype(np.float)\n",
    "print(\"Data type of the array A is:\", A.dtype)\n",
    "print(A)"
   ]
  },
  {
   "cell_type": "markdown",
   "metadata": {},
   "source": [
    "20. Дан файл:\n",
    "- 1,2,3,4,5\n",
    "- 6,,,7,8\n",
    "- ,,9,10,11\n",
    "\n",
    "Как прочитать его?"
   ]
  },
  {
   "cell_type": "code",
   "execution_count": 20,
   "metadata": {},
   "outputs": [
    {
     "name": "stdout",
     "output_type": "stream",
     "text": [
      "[[ 1.  2.  3.  4.  5.]\n",
      " [ 6. nan nan  7.  8.]\n",
      " [nan nan  9. 10. 11.]]\n"
     ]
    }
   ],
   "source": [
    "A = np.genfromtxt(\"data1.txt\", delimiter=\",\")\n",
    "print(A)"
   ]
  },
  {
   "cell_type": "markdown",
   "metadata": {},
   "source": [
    "21. Каков эквивалент функции *enumerate* для *numpy* массивов?"
   ]
  },
  {
   "cell_type": "code",
   "execution_count": 21,
   "metadata": {},
   "outputs": [
    {
     "name": "stdout",
     "output_type": "stream",
     "text": [
      "A:\n",
      "[[0 1 2]\n",
      " [3 4 5]\n",
      " [6 7 8]]\n",
      "\n",
      "(0, 0) 0\n",
      "(0, 1) 1\n",
      "(0, 2) 2\n",
      "(1, 0) 3\n",
      "(1, 1) 4\n",
      "(1, 2) 5\n",
      "(2, 0) 6\n",
      "(2, 1) 7\n",
      "(2, 2) 8\n"
     ]
    }
   ],
   "source": [
    "A = np.arange(9).reshape(3,3)\n",
    "print('A:')\n",
    "print(A)\n",
    "print()\n",
    "for i, value in np.ndenumerate(A):\n",
    "    print(i, value)"
   ]
  },
  {
   "cell_type": "markdown",
   "metadata": {},
   "source": [
    "22. Сформировать 2D массив с распределением Гаусса"
   ]
  },
  {
   "cell_type": "code",
   "execution_count": 22,
   "metadata": {},
   "outputs": [
    {
     "data": {
      "image/png": "[encoded data removed]",
      "text/plain": [
       "<Figure size 432x288 with 2 Axes>"
      ]
     },
     "metadata": {
      "needs_background": "light"
     },
     "output_type": "display_data"
    }
   ],
   "source": [
    "from mpl_toolkits.mplot3d import Axes3D\n",
    "import matplotlib.pyplot as plt\n",
    "from matplotlib import cm\n",
    "from matplotlib.ticker import LinearLocator, FormatStrFormatter\n",
    "\n",
    "x, y = np.meshgrid(np.linspace(-1,1,100), np.linspace(-1,1,100))\n",
    "d = np.hypot(x, y)\n",
    "sigma, mu = 0.25, 0.0\n",
    "g = np.exp(-((d-mu)**2 / (2.0 * sigma**2)))\n",
    "#print(g)\n",
    "\n",
    "# 3D Plot\n",
    "fig = plt.figure()\n",
    "ax = fig.gca(projection='3d')\n",
    "\n",
    "surf = ax.plot_surface(x, y, g, cmap=cm.coolwarm,\n",
    "                       linewidth=0, antialiased=False)\n",
    "\n",
    "# Customize the z axis.\n",
    "#ax.set_zlim(-1.01, 1.01)\n",
    "ax.zaxis.set_major_locator(LinearLocator(10))\n",
    "ax.zaxis.set_major_formatter(FormatStrFormatter('%.02f'))\n",
    "\n",
    "# Add a color bar which maps values to colors.\n",
    "fig.colorbar(surf, shrink=0.5, aspect=5)\n",
    "\n",
    "plt.show()"
   ]
  },
  {
   "cell_type": "markdown",
   "metadata": {},
   "source": [
    "23. Случайно расположить p элементов в 2D массив"
   ]
  },
  {
   "cell_type": "code",
   "execution_count": 23,
   "metadata": {},
   "outputs": [
    {
     "name": "stdout",
     "output_type": "stream",
     "text": [
      "[[ 0.  0.  0.  0. 10.  0.  0.  0.  0.  0.]\n",
      " [ 0.  0.  0. 10.  0. 10.  0.  0.  0.  0.]\n",
      " [ 0.  0.  0.  0.  0.  0.  0.  0.  0. 10.]\n",
      " [ 0. 10.  0.  0.  0.  0.  0.  0.  0.  0.]\n",
      " [ 0.  0.  0.  0.  0.  0.  0.  0.  0.  0.]\n",
      " [ 0.  0.  0.  0.  0.  0.  0.  0.  0.  0.]\n",
      " [ 0.  0.  0.  0.  0.  0.  0.  0.  0.  0.]\n",
      " [10.  0.  0.  0.  0.  0.  0.  0.  0.  0.]\n",
      " [ 0.  0.  0.  0.  0.  0.  0.  0.  0.  0.]\n",
      " [ 0.  0.  0.  0.  0.  0.  0.  0.  0.  0.]]\n"
     ]
    }
   ],
   "source": [
    "n = 10\n",
    "A = np.zeros([n, n])\n",
    "p = 6\n",
    "np.put(A, np.random.choice(range(n*n), p, replace=False), n)\n",
    "\n",
    "print(A)"
   ]
  },
  {
   "cell_type": "markdown",
   "metadata": {},
   "source": [
    "24. Отнять среднее из каждой строки в матрице"
   ]
  },
  {
   "cell_type": "code",
   "execution_count": 24,
   "metadata": {},
   "outputs": [
    {
     "name": "stdout",
     "output_type": "stream",
     "text": [
      "Original array:\n",
      "[[0 4 7]\n",
      " [7 2 0]\n",
      " [3 9 7]]\n",
      "Modified array:\n",
      "[[-4.33333333 -0.33333333  2.66666667]\n",
      " [ 2.66666667 -2.33333333 -4.33333333]\n",
      " [-1.33333333  4.66666667  2.66666667]]\n"
     ]
    }
   ],
   "source": [
    "X = np.random.randint(10, size=(3, 3))\n",
    "print('Original array:')\n",
    "print(X)\n",
    "#Y = X - X.mean(axis=1, keepdims=True)\n",
    "Y = X - np.mean(X)\n",
    "print('Modified array:')\n",
    "print(Y)"
   ]
  },
  {
   "cell_type": "markdown",
   "metadata": {},
   "source": [
    "25. Отсортировать матрицу по n-ому столбцу"
   ]
  },
  {
   "cell_type": "code",
   "execution_count": 25,
   "metadata": {},
   "outputs": [
    {
     "name": "stdout",
     "output_type": "stream",
     "text": [
      "Original array:\n",
      "[[9 2 5 8 5]\n",
      " [1 9 6 2 6]\n",
      " [4 4 7 6 5]\n",
      " [9 8 6 4 3]\n",
      " [1 5 2 5 4]]\n",
      "Sorted array:\n",
      "[[1 5 2 5 4]\n",
      " [9 2 5 8 5]\n",
      " [1 9 6 2 6]\n",
      " [9 8 6 4 3]\n",
      " [4 4 7 6 5]]\n"
     ]
    }
   ],
   "source": [
    "A = np.random.randint(10, size=(5, 5))\n",
    "n = 2\n",
    "print('Original array:')\n",
    "print(A)\n",
    "print('Sorted array:')\n",
    "print(A[np.argsort(A[:,n])])"
   ]
  },
  {
   "cell_type": "markdown",
   "metadata": {},
   "source": [
    "26. Определить, есть ли в 2D массиве нулевые столбцы"
   ]
  },
  {
   "cell_type": "code",
   "execution_count": 26,
   "metadata": {},
   "outputs": [
    {
     "name": "stdout",
     "output_type": "stream",
     "text": [
      "True\n",
      "True\n"
     ]
    }
   ],
   "source": [
    "A = np.array([[1, 0, 3], [2, 0, 3], [1, 0, 6]])\n",
    "T = []\n",
    "\n",
    "# First method:\n",
    "for i in range(len(A)):\n",
    "    for j in range(len(A[i])):\n",
    "        if A[j][i] == 0:\n",
    "            f += 1\n",
    "        else:\n",
    "            f = 0\n",
    "    T.append(f)\n",
    "    \n",
    "if len(A) in T:\n",
    "    print(True)\n",
    "else:\n",
    "    print(False)\n",
    "\n",
    "# Second method:\n",
    "print(np.any(~np.any(A, axis=0)))"
   ]
  },
  {
   "cell_type": "markdown",
   "metadata": {},
   "source": [
    "27. Дан массив, добавить 1 к каждому элементу с индексом, заданным в другом массиве (осторожно с повторами)"
   ]
  },
  {
   "cell_type": "code",
   "execution_count": 27,
   "metadata": {},
   "outputs": [
    {
     "name": "stdout",
     "output_type": "stream",
     "text": [
      "Original array:\n",
      "[0. 0. 0. 0. 0. 0. 0. 0. 0. 0.]\n",
      "Additional array:\n",
      "[1 1 3 9 6 1 5 3 1 1]\n",
      "Numbers of occurrences of each value in array:\n",
      "[0 5 0 2 0 1 1 0 0 1]\n",
      "Modified array:\n",
      "[0. 5. 0. 2. 0. 1. 1. 0. 0. 1.]\n"
     ]
    }
   ],
   "source": [
    "Z = np.zeros(10)\n",
    "print('Original array:')\n",
    "print(Z)\n",
    "\n",
    "A = np.random.randint(0, len(Z), 10)\n",
    "print('Additional array:')\n",
    "print(A)\n",
    "print('Numbers of occurrences of each value in array:')\n",
    "print(np.bincount(A, minlength=len(Z)))\n",
    "\n",
    "Z += np.bincount(A, minlength=len(Z))\n",
    "print('Modified array:')\n",
    "print(Z)"
   ]
  },
  {
   "cell_type": "markdown",
   "metadata": {},
   "source": [
    "28. Дан массив (w,h,3) (картинка) dtype=ubyte, посчитать количество различных цветов"
   ]
  },
  {
   "cell_type": "code",
   "execution_count": 28,
   "metadata": {},
   "outputs": [
    {
     "name": "stdout",
     "output_type": "stream",
     "text": [
      "[[[211  23 149 141 114 136 158  62  53  60  88  61 170  22 127  20]\n",
      "  [201  96 178 168 148 225 126 100 149 120 152  90  74  56 126  42]\n",
      "  [100  75 168 119  18 114  10   4 248 233 149 255  11  54 148  39]\n",
      "  [118 239 135 254 253 172 246  97 148   5 149 170  75  15 143 227]\n",
      "  [ 26 186 204  83 201 220 183   1  33 167 145 232  91 112  44  95]\n",
      "  [ 58  28  38  45 106 218 220 245 137 218  95  17 232 224  48  17]\n",
      "  [  7 163  78 250 116 210 146  24 156  79  92 171 151 158 202 143]\n",
      "  [198 158   7 155 193 199 238 167 171  64 234 232 167 125  28 235]\n",
      "  [127 139  73 214 114  44 197  27 249  55   3 181 207 178  54 121]\n",
      "  [ 63  71  64 216  78   8 164   3 200 164  46  49  32 167  65  18]\n",
      "  [ 63 103 251 146 223 143 173 151 250  86  40 123  41  75  14 250]\n",
      "  [124 198 195  42   5 207  12 231 222 132  69  91  78 192  81  88]\n",
      "  [215 201 165 131 117 172 229 207 170  27  23  29 121  58  79  56]\n",
      "  [ 66 250 116  96 134 217  97 211  84 207  69  69 124 109 225 152]\n",
      "  [ 92 146 250  28 254 149  33  11  91  14  29  66 105  57 199 237]\n",
      "  [209 158  46 113  67  75 204  76   8 107  64  20 181 220  13 118]]\n",
      "\n",
      " [[138 145  43  29  85 187  73 140 123 244 114 122  11  85  29  23]\n",
      "  [156  78  99  48 164 202 199 101  18  12  14 104  84 216  28 109]\n",
      "  [190  41   7  50  45 112 152 167  33 175 118   6 161 126 168 162]\n",
      "  [ 44 136  73  80 133 210  44  83  86  94 141 123 101 113  81  63]\n",
      "  [237 218 165 209  21  35  24  62  40  86 102  16 218 104 248  82]\n",
      "  [217  40 195 214   8 183 166 198 120  14 160 148 146 250 145  73]\n",
      "  [108 170  55  22 154 135 244 255   7 175 253  99  13  46 230 167]\n",
      "  [  3 209  12  56 184 135 170 103 191  94 108 219 106 232 247 179]\n",
      "  [118 131   5  64  59 210 118  84 140 233 251 167 182 238 144 141]\n",
      "  [170 207 101 133  99  20  81 234 247 106  15 252 222 205 234 239]\n",
      "  [ 60 114 227 140 210 182 221 190  51  61 195 249  74 186  21 224]\n",
      "  [ 39 176  66 120 168 202 241   2 243 142 117 133 237  80 223 183]\n",
      "  [ 84 245  99 117 193   9  47 233 130 229  38 252  67 155  48 119]\n",
      "  [ 21 245 174 226  35 232 151 117 145 179  80 247 155  26 156 186]\n",
      "  [  6 211  72  92 204   6 165 195 200  90  85  13 110 242 170  46]\n",
      "  [ 43 195 254   0  29   1   0  20  65  71 255 182  78  22  89  82]]\n",
      "\n",
      " [[128 161  66  13 215 166  67 243 242 150  74  65 223 121 184 190]\n",
      "  [ 59  96 118 205 251  83  20 242 146 248 207 106 174  85 198 171]\n",
      "  [173 132 149 205 217 116 248  16 253  78 210 214 233 186 130  75]\n",
      "  [206  50 254 154 209  93  71  91  54 168   2  80  34 106  90 210]\n",
      "  [169 110  45 184  24 246  13  81 243   3 192 254 164 122 136 231]\n",
      "  [ 49  53  98 179 213  41  77 154  90   2  10 135  36  68 167 249]\n",
      "  [142  17 244  16 225 235 252  92 165  33 240 225 137  10 156 175]\n",
      "  [ 49   8 137  95  38   2  81 144  31 163 197  90  74 252 190 122]\n",
      "  [207 138 206 247 116 197 229  65 202 234 237 193  45  28  14 198]\n",
      "  [140 190  38  97  89 157 214 144  29 146 241 206 176  97  91 219]\n",
      "  [ 22 104 225  44  80 199 219 239 216 202  59 232  72 112  89 126]\n",
      "  [180   1 185 176 206 234 133 236 198 247  91 237  30 190  43 217]\n",
      "  [212 184 199 135  64 166 127 141  98 175 127 101  44  77 243 161]\n",
      "  [ 84 209  72 194 116   1 208 148 162  42  44 246  21 249 251 238]\n",
      "  [224  48  68  87  40  49 207   9 126  24 177 193 175  86 214  65]\n",
      "  [226 117  57 223 192 115  23  60  77  54 220  53  21  85  14   9]]]\n",
      "\n",
      "Colors: 241\n"
     ]
    }
   ],
   "source": [
    "w,h = 16,16\n",
    "I = np.random.randint(256, size=(3,w,h)).astype(np.ubyte)\n",
    "print(I)\n",
    "\n",
    "n = len(np.unique(I))\n",
    "print('\\nColors:', n)"
   ]
  },
  {
   "cell_type": "markdown",
   "metadata": {},
   "source": [
    "29. Дан четырехмерный массив, посчитать сумму по последним двум осям"
   ]
  },
  {
   "cell_type": "code",
   "execution_count": 29,
   "metadata": {},
   "outputs": [
    {
     "name": "stdout",
     "output_type": "stream",
     "text": [
      "Original array:\n",
      "[[[[4 2 6]\n",
      "   [9 3 2]\n",
      "   [4 5 5]]\n",
      "\n",
      "  [[7 3 0]\n",
      "   [2 8 7]\n",
      "   [1 8 6]]\n",
      "\n",
      "  [[0 7 7]\n",
      "   [5 2 2]\n",
      "   [8 1 6]]]\n",
      "\n",
      "\n",
      " [[[0 7 8]\n",
      "   [6 5 2]\n",
      "   [8 9 6]]\n",
      "\n",
      "  [[6 5 2]\n",
      "   [9 0 4]\n",
      "   [2 4 2]]\n",
      "\n",
      "  [[7 2 9]\n",
      "   [5 9 0]\n",
      "   [3 3 9]]]\n",
      "\n",
      "\n",
      " [[[9 9 4]\n",
      "   [3 9 4]\n",
      "   [2 4 5]]\n",
      "\n",
      "  [[9 2 6]\n",
      "   [3 1 6]\n",
      "   [7 7 5]]\n",
      "\n",
      "  [[1 5 5]\n",
      "   [3 1 5]\n",
      "   [8 4 6]]]]\n",
      "Sum:\n",
      "[[40 42 38]\n",
      " [51 34 47]\n",
      " [49 46 38]]\n"
     ]
    }
   ],
   "source": [
    "A = np.random.randint(0,10, size=(3,3,3,3))\n",
    "print('Original array:')\n",
    "print(A)\n",
    "\n",
    "sum_A = np.sum(np.sum(A, axis=3), axis=2)\n",
    "print('Sum:')\n",
    "print(sum_A)"
   ]
  },
  {
   "cell_type": "markdown",
   "metadata": {},
   "source": [
    "30. Найти диагональные элементы произведения матриц"
   ]
  },
  {
   "cell_type": "code",
   "execution_count": 30,
   "metadata": {},
   "outputs": [
    {
     "name": "stdout",
     "output_type": "stream",
     "text": [
      "[50 34 37]\n"
     ]
    }
   ],
   "source": [
    "A = np.random.randint(10, size=(3, 3))\n",
    "B = np.random.randint(10, size=(3, 3))\n",
    "\n",
    "p = np.diag(np.dot(A, B))\n",
    "print(p)"
   ]
  }
 ],
 "metadata": {
  "kernelspec": {
   "display_name": "Python 3",
   "language": "python",
   "name": "python3"
  },
  "language_info": {
   "codemirror_mode": {
    "name": "ipython",
    "version": 3
   },
   "file_extension": ".py",
   "mimetype": "text/x-python",
   "name": "python",
   "nbconvert_exporter": "python",
   "pygments_lexer": "ipython3",
   "version": "3.7.3"
  }
 },
 "nbformat": 4,
 "nbformat_minor": 4
}
